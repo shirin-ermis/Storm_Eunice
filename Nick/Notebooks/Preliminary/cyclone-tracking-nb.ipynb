{
 "cells": [
  {
   "cell_type": "markdown",
   "id": "b60e7a58-3dd5-4c14-bd3b-23411d8dbcea",
   "metadata": {},
   "source": [
    "# Dependencies"
   ]
  },
  {
   "cell_type": "code",
   "execution_count": 1,
   "id": "d5719d2a-dbae-4a03-82f9-7dbb97d79109",
   "metadata": {},
   "outputs": [
    {
     "name": "stderr",
     "output_type": "stream",
     "text": [
      "/home/l/leach/installed-packages/miniconda3/lib/python3.7/site-packages/xarray/backends/cfgrib_.py:28: UserWarning: Failed to load cfgrib - most likely there is a problem accessing the ecCodes library. Try `import cfgrib` to get the full error message\n",
      "  \"Failed to load cfgrib - most likely there is a problem accessing the ecCodes library. \"\n"
     ]
    }
   ],
   "source": [
    "import sys\n",
    "sys.path.append('../../Scripts/tracking/')\n",
    "import os\n",
    "import copy\n",
    "import pandas as pd\n",
    "import numpy as np\n",
    "import netCDF4 as nc\n",
    "import CycloneModule_12_4 as md\n",
    "import sys\n",
    "import xarray as xr\n",
    "import scipy as sp\n",
    "from scipy.spatial import Delaunay\n",
    "from scipy.interpolate import LinearNDInterpolator\n",
    "from scipy.interpolate import NearestNDInterpolator\n",
    "import tqdm\n",
    "import glob\n",
    "import time"
   ]
  },
  {
   "cell_type": "markdown",
   "id": "2532889e-5067-46be-8144-972863b0650b",
   "metadata": {},
   "source": [
    "# Set up args"
   ]
  },
  {
   "cell_type": "code",
   "execution_count": 2,
   "id": "3cca62bb-dd88-4c02-9ad1-952434905c99",
   "metadata": {},
   "outputs": [
    {
     "name": "stdout",
     "output_type": "stream",
     "text": [
      "Setting up environment\n"
     ]
    }
   ],
   "source": [
    "print(\"Setting up environment\")\n",
    "verd = \"12_4Test\" # Detection Version\n",
    "vert = 'Tracks' # Tracking Version\n",
    "spres = 25 # Spatial resolution (in km)"
   ]
  },
  {
   "cell_type": "code",
   "execution_count": 3,
   "id": "d0818759-5bd6-4d02-9ad6-858dbce4d43b",
   "metadata": {},
   "outputs": [],
   "source": [
    "inpath='/gf3/predict2/AWH012_LEACH_NASTORM/DATA/MED-R/ENS/EU025/sfc/cf/1_2022-02-10.nc'\n",
    "outpath='/'.join(inpath.split('/')[:5])+'/postproc/tracks/'+'/'.join(inpath.split('/')[5:-1])+'/'\n",
    "suppath='/gf3/predict2/AWH012_LEACH_NASTORM/DATA/ancil/EASE2_N0_25km_Projection.nc'\n",
    "variable='msl'"
   ]
  },
  {
   "cell_type": "code",
   "execution_count": 4,
   "id": "6fecf79f-3ea4-4054-b392-b347fdde9458",
   "metadata": {},
   "outputs": [],
   "source": [
    "outpath += inpath.split('/')[-1].split('.')[0]\n",
    "\n",
    "try:\n",
    "    os.chdir(outpath)\n",
    "except:\n",
    "    os.mkdir(outpath)\n",
    "    os.mkdir(outpath+'/tmp')"
   ]
  },
  {
   "cell_type": "markdown",
   "id": "e92c87da-73ad-473b-a6dc-8c10c005b204",
   "metadata": {},
   "source": [
    "# Regridding"
   ]
  },
  {
   "cell_type": "markdown",
   "id": "ce69e4f8-1124-4727-b835-56b042c621ef",
   "metadata": {},
   "source": [
    "## set up args"
   ]
  },
  {
   "cell_type": "code",
   "execution_count": 5,
   "id": "3106cf77-72a8-46d0-8348-83c18ee52ca0",
   "metadata": {},
   "outputs": [],
   "source": [
    "rg_infile=inpath[:]\n",
    "rg_gridfile=suppath[:]\n",
    "rg_variable=variable[:]\n",
    "rg_outfile=outpath+'/tmp/'+inpath.split('/')[-1]"
   ]
  },
  {
   "cell_type": "markdown",
   "id": "551eaee7-b32e-4700-a9c9-44ee2f4598c1",
   "metadata": {},
   "source": [
    "## create minimal EASE2 mesh"
   ]
  },
  {
   "cell_type": "code",
   "execution_count": 6,
   "id": "421e6e19-7f62-422c-bd12-e820c1fef5dc",
   "metadata": {},
   "outputs": [
    {
     "name": "stdout",
     "output_type": "stream",
     "text": [
      "regridding /gf3/predict2/AWH012_LEACH_NASTORM/DATA/MED-R/ENS/EU025/sfc/cf/1_2022-02-10.nc msl using /gf3/predict2/AWH012_LEACH_NASTORM/DATA/ancil/EASE2_N0_25km_Projection.nc grid and saving to /gf3/predict2/AWH012_LEACH_NASTORM/DATA/postproc/tracks/MED-R/ENS/EU025/sfc/cf/1_2022-02-10/tmp/1_2022-02-10.nc\n"
     ]
    },
    {
     "name": "stderr",
     "output_type": "stream",
     "text": [
      "/home/l/leach/installed-packages/miniconda3/lib/python3.7/site-packages/xarray/backends/plugins.py:68: RuntimeWarning: Engine 'cfgrib' loading failed:\n",
      "/home/l/leach/installed-packages/miniconda3/lib/python3.7/site-packages/_cffi_backend.cpython-37m-x86_64-linux-gnu.so: symbol ffi_type_uint32 version LIBFFI_BASE_7.0 not defined in file libffi.so.7 with link time reference\n",
      "  warnings.warn(f\"Engine {name!r} loading failed:\\n{ex}\", RuntimeWarning)\n"
     ]
    }
   ],
   "source": [
    "print('regridding {} {} using {} grid and saving to {}'.format(rg_infile,rg_variable,rg_gridfile,rg_outfile))\n",
    "\n",
    "ds_in = xr.open_dataset(rg_infile)\n",
    "grid_out = xr.open_dataset(rg_gridfile)\n",
    "\n",
    "# convert ds_in longitudes to -180 to 180\n",
    "if ds_in[[x for x in ds_in.variables if x[:3] == 'lon'][0]].values.max() > 180:\n",
    "    print('converting longitudes to -180 to 180 scale')\n",
    "    ds_in = ds_in.assign_coords({[x for x in ds_in.variables if x[:3] == 'lon'][0]:(ds_in[[x for x in ds_in.variables if x[:3] == 'lon'][0]]+180)%360-180})\n",
    "\n",
    "# Get lat/lon values (accounting for latitude / lat naming)\n",
    "in_lat = ds_in[[x for x in ds_in.variables if x[:3] == 'lat'][0]].values\n",
    "in_lon = ds_in[[x for x in ds_in.variables if x[:3] == 'lon'][0]].values\n",
    "in_vals = ds_in[rg_variable].values\n",
    "\n",
    "grid_lat = grid_out[[x for x in grid_out.variables if x[:3] == 'lat'][0]].values\n",
    "grid_lon = grid_out[[x for x in grid_out.variables if x[:3] == 'lon'][0]].values\n",
    "\n",
    "# if lat/lon on a regular grid, convert to mesh\n",
    "if np.ndim(in_lat) == 1:\n",
    "    in_lon,in_lat = np.meshgrid(in_lon,in_lat)\n",
    "\n",
    "# Precompute Delaunay triangulation\n",
    "tri = Delaunay(np.array([in_lon.flatten(),in_lat.flatten()]).T)\n",
    "\n",
    "# Slice EASE2 grid to minimal bbox\n",
    "interp = LinearNDInterpolator(tri, in_vals[0].flatten()*0)\n",
    "minbox = np.nan_to_num(interp(grid_lon,grid_lat)+1).astype(bool)\n",
    "U,V = np.meshgrid(grid_out.u,grid_out.v)\n",
    "U_min = U[minbox].min()\n",
    "U_max = U[minbox].max()\n",
    "V_min = V[minbox].min()\n",
    "V_max = V[minbox].max()\n",
    "\n",
    "# generate new subgrid lat/lon mesh\n",
    "subgrid_out = grid_out.sel(u=slice(U_min,U_max),v=slice(V_max,V_min))\n",
    "subgrid_lat = subgrid_out[[x for x in grid_out.variables if x[:3] == 'lat'][0]].values\n",
    "subgrid_lon = subgrid_out[[x for x in grid_out.variables if x[:3] == 'lon'][0]].values"
   ]
  },
  {
   "cell_type": "markdown",
   "id": "fc2c38d0-49fd-466b-b78a-141b048960e4",
   "metadata": {},
   "source": [
    "## regrid all timesteps"
   ]
  },
  {
   "cell_type": "code",
   "execution_count": 7,
   "id": "32297aa9-2097-478d-9ed7-64713aee03ab",
   "metadata": {},
   "outputs": [
    {
     "name": "stderr",
     "output_type": "stream",
     "text": [
      "48it [00:00, 65.11it/s]\n"
     ]
    },
    {
     "name": "stdout",
     "output_type": "stream",
     "text": [
      "done\n"
     ]
    }
   ],
   "source": [
    "# create empty array for regridded data\n",
    "interp_vals = np.empty((in_vals.shape[0],*subgrid_out.z.shape))\n",
    "\n",
    "# loop over first input index\n",
    "for i,fld in tqdm.tqdm(enumerate(in_vals)):\n",
    "    \n",
    "    interp = LinearNDInterpolator(tri, fld.flatten())\n",
    "    interp_vals[i] = interp(subgrid_lon,subgrid_lat)\n",
    "    \n",
    "# retain attributes from the original, but add in history line\n",
    "update_attrs = ds_in.attrs.copy()\n",
    "if 'history' in update_attrs:\n",
    "    update_attrs['history'] = pd.to_datetime('today').strftime('%c')+': Regridded using scipy LinearNDInterpolator to EASE2.0 25km EU grid \\n'+update_attrs['history']\n",
    "else:\n",
    "    update_attrs['history'] = pd.to_datetime('today').strftime('%c')+': Regridded using scipy LinearNDInterpolator to EASE2.0 25km EU grid'\n",
    "\n",
    "# create Dataset & write to netcdf\n",
    "regridded = xr.Dataset(data_vars = {rg_variable:(('time','v','u'),interp_vals),'lat':subgrid_out[[x for x in grid_out.variables if x[:3] == 'lat'][0]],'lon':subgrid_out[[x for x in grid_out.variables if x[:3] == 'lon'][0]]},\n",
    "                       coords = {'time':ds_in.time,'u':subgrid_out.u,'v':subgrid_out.v},\n",
    "                       attrs = update_attrs)\n",
    "\n",
    "# if only wanting 3-hrly (or coarser) data:\n",
    "regridded_mod3 = regridded.time.dt.hour.values[0]%3\n",
    "regridded = regridded.sel(time=regridded.time.dt.hour%3==regridded_mod3)\n",
    "\n",
    "regridded.to_netcdf(rg_outfile)\n",
    "\n",
    "# also write the subgrid to a file for elevation\n",
    "subgrid_out.to_netcdf('/'.join(rg_outfile.split('/')[:-1])+'/elevation_grid.nc')\n",
    "\n",
    "print('done')"
   ]
  },
  {
   "cell_type": "markdown",
   "id": "60659a8f-43f8-4fa9-a69d-026bb945e382",
   "metadata": {},
   "source": [
    "## reset tracking args"
   ]
  },
  {
   "cell_type": "code",
   "execution_count": 8,
   "id": "7e214458-f8f8-428f-a810-f3dfe8da5fa1",
   "metadata": {},
   "outputs": [],
   "source": [
    "inpath=rg_outfile[:]\n",
    "suppath='/'.join(rg_outfile.split('/')[:-1])+'/elevation_grid.nc'"
   ]
  },
  {
   "cell_type": "code",
   "execution_count": 9,
   "id": "5cc24e10-7407-46e1-a294-93a5dc3418bb",
   "metadata": {},
   "outputs": [],
   "source": [
    "## check these files all exist\n",
    "if not os.path.exists(inpath):\n",
    "    print('inpath does not exist')\n",
    "\n",
    "if not os.path.exists(suppath):\n",
    "    print('suppath does not exist')"
   ]
  },
  {
   "cell_type": "markdown",
   "id": "fc1079a8-b2fd-4422-ac06-f95d777eaecd",
   "metadata": {},
   "source": [
    "# Set up parameters"
   ]
  },
  {
   "cell_type": "markdown",
   "id": "f852d5b5-6a8e-43aa-ad3c-3e36506c51de",
   "metadata": {},
   "source": [
    "## time variables"
   ]
  },
  {
   "cell_type": "code",
   "execution_count": 10,
   "id": "16f53f73-9d5f-43bf-ba5b-f5b45c08a5cc",
   "metadata": {},
   "outputs": [
    {
     "name": "stdout",
     "output_type": "stream",
     "text": [
      "Defining parameters\n",
      "calendar is 365 day leap\n"
     ]
    }
   ],
   "source": [
    "print(\"Defining parameters\")\n",
    "# File Variables\n",
    "invar = variable[:]\n",
    "ncvar = variable[:]\n",
    "\n",
    "## NJL: automatic time variable setting\n",
    "# Time Variables \n",
    "timeref_ds = xr.open_dataset(inpath,decode_times=False).time\n",
    "timeref_ds1 = xr.open_dataset(inpath).time\n",
    "dateref = pd.to_datetime([x for x in timeref_ds.units.split(' ') if '-' in x][0])\n",
    "unit = timeref_ds.units.split(' ')[0]\n",
    "calendar = timeref_ds.calendar\n",
    "starttime = timeref_ds1[0].values[()]\n",
    "timestep = pd.Timedelta(timeref_ds.diff('time')[0].values[()],unit=unit)\n",
    "endtime = timeref_ds1[-1].values[()] + timestep\n",
    "## NJL: for setting prior variable:\n",
    "previous_step = starttime - timestep\n",
    "\n",
    "try:\n",
    "    starttime=pd.to_datetime(starttime)\n",
    "    endtime=pd.to_datetime(endtime)\n",
    "    dateref=pd.to_datetime(dateref)\n",
    "    previous_step=pd.to_datetime(previous_step)\n",
    "except:\n",
    "    pass\n",
    "\n",
    "convert_times_to_list = lambda x: [int(y) for y in x.strftime('%Y-%m-%d-%H-%M-%S').split('-')]\n",
    "starttime = convert_times_to_list(starttime)\n",
    "endtime = convert_times_to_list(endtime)\n",
    "timestep = [0,0,0,timestep.seconds//3600,0,0]\n",
    "dateref = convert_times_to_list(dateref)\n",
    "starting_hour = starttime[3] % timestep[3]\n",
    "\n",
    "## NJL: check if MOHC model (BOOOO)\n",
    "if calendar == '360_day':\n",
    "    daysBetween_dpy = 360\n",
    "    daysBetween_lys = 0\n",
    "    print('calendar is 360 day noleap')\n",
    "elif calendar == '365_day' or calendar == 'noleap':\n",
    "    daysBetween_dpy = 365\n",
    "    daysBetween_lys = 0\n",
    "    print('calendar is 365 day noleap')\n",
    "else:\n",
    "    daysBetween_dpy = 365\n",
    "    daysBetween_lys = 1\n",
    "    print('calendar is 365 day leap')\n",
    "\n",
    "## if netcdf units are hours, add in an adjustment factor\n",
    "if unit=='hours':\n",
    "    daysBetween_adjustment = 24\n",
    "else:\n",
    "    daysBetween_adjustment = 1\n",
    "\n",
    "\n",
    "prior = 0"
   ]
  },
  {
   "cell_type": "code",
   "execution_count": 11,
   "id": "682704f4-e2e3-46e6-96d1-bd41c18b8845",
   "metadata": {},
   "outputs": [
    {
     "name": "stdout",
     "output_type": "stream",
     "text": [
      "[2022, 2, 10, 6, 0, 0] [2022, 2, 22, 6, 0, 0] [0, 0, 0, 6, 0, 0] [1900, 1, 1, 0, 0, 0]\n"
     ]
    }
   ],
   "source": [
    "print(starttime,endtime,timestep,dateref)"
   ]
  },
  {
   "cell_type": "markdown",
   "id": "bc27c2ca-bf63-4bcd-9a41-79dded90a122",
   "metadata": {},
   "source": [
    "## tracking parameters"
   ]
  },
  {
   "cell_type": "code",
   "execution_count": 12,
   "id": "7d4efcbb-32e5-46bf-964d-96b62b1c244a",
   "metadata": {},
   "outputs": [],
   "source": [
    "# Detection Parameters #\n",
    "minsurf = 80000 # minimum reasonable value in surface tif\n",
    "maxsurf = 200000 # maximum reasonable value in surface tif\n",
    "\n",
    "# Size of kernel used to determine if a grid cell is a local minimum\n",
    "##  Starting in Version 12.1, users enter a distance in km instead of the kernel\n",
    "## size. This way, the kSize can adapt to different spatial resolutions. The \n",
    "## equivalent of a 3 by 3 kernel with 100 km resolution would be 100\n",
    "## i.e., kSize = (2*kSizekm/spres)+1\n",
    "kSizekm = 200\n",
    "\n",
    "# Maximum fraction of neighboring grid cells with no data (Not a Number) allowed\n",
    "### for a grid cell to be considered during minimum detection \n",
    "nanThresh = 0.4\n",
    "\n",
    "# minimum slp gradient for identifying (and eliminating) weak minima:\n",
    "d_slp = 750 # slp difference in Pa (use 0 to turn off)\n",
    "d_dist = 1000000 # distance in m (units that match units of cellsize)\n",
    "\n",
    "# maximum elevation for masking out high elevation minima\n",
    "maxelev = 1500. # elevation in m (use 10000 to turn off)\n",
    "\n",
    "# minimum latitude for masking out the Equator (takes absolute value!)\n",
    "minlat = 5\n",
    "\n",
    "# Contour interval (Pa; determines the interval needed to identify closed \n",
    "### contours,and therefore cyclone area)\n",
    "contint = 200\n",
    "\n",
    "# Multi-center cyclone (mcc) tolerance is the maximum ratio permitted between the\n",
    "### number of unshared and total contours in a multi-centered cyclone. \"Unshared\"\n",
    "### contours are only used by the primary center. \"Shared\" contours are used\n",
    "### by both the primary and secondary centers.\n",
    "mcctol = 0.5 # (use 0 to turn off mcc's; higher makes mcc's more likely)\n",
    "# Multi-center cyclone (mcc) distance is the maximum distance (in m) two minima can\n",
    "### lie apart and still be considered part of the same cyclone system\n",
    "mccdist = 1200000\n",
    "\n",
    "# Tracking Parameters #\n",
    "# Maximum speed is the fastest that a cyclone center is allowed to travel; given\n",
    "### in units of km/h. To be realistic, the number should be between 100 and 200.\n",
    "### and probably over 125 (based on Rudeva et al. 2014). To turn off, set to \n",
    "### np.inf. Also, note that instabilities occur at temporal resolution of 1-hr.\n",
    "### Tracking at 6-hr and a maxspeed of 125 km/hr is more comprable to tracking\n",
    "### at 1-hr and a maxspeed of 300 km/hr (assuming spatial resolution of 50 km).\n",
    "maxspeed = 150 # constant value\n",
    "# maxspeed = 150*(3*math.log(timestep[3],6)+2)/timestep[3] # One example of scaling by temporal resolution\n",
    "\n",
    "# The reduction parameter is a scaling of cyclone speed.  When tracking, the\n",
    "### algorithm uses the cyclone speed and direction from the last interval to \n",
    "### estimate a \"best guess\" position. This parameter modifies that speed, making\n",
    "### it slower. This reflects how cyclones tend to slow down as they mature. To\n",
    "### turn off, set to 1.\n",
    "red = 0.75"
   ]
  },
  {
   "cell_type": "markdown",
   "id": "cb5f6719-1530-4810-8e6f-9bb905374a52",
   "metadata": {},
   "source": [
    "# Tracking"
   ]
  },
  {
   "cell_type": "code",
   "execution_count": 13,
   "id": "7d81acc6-627f-4942-a57b-33494f67b60f",
   "metadata": {},
   "outputs": [
    {
     "name": "stdout",
     "output_type": "stream",
     "text": [
      "Loading Folders & Reference Files\n"
     ]
    }
   ],
   "source": [
    "print(\"Loading Folders & Reference Files\")\n",
    "### Standard time text definitions ###\n",
    "months = [\"Jan\",\"Feb\",\"Mar\",\"Apr\",\"May\",\"Jun\",\"Jul\",\"Aug\",\"Sep\",\"Oct\",\"Nov\",\"Dec\"]\n",
    "mons = [\"01\",\"02\",\"03\",\"04\",\"05\",\"06\",\"07\",\"08\",\"09\",\"10\",\"11\",\"12\"]\n",
    "days = [\"01\",\"02\",\"03\",\"04\",\"05\",\"06\",\"07\",\"08\",\"09\",\"10\",\"11\",\"12\",\"13\",\\\n",
    "    \"14\",\"15\",\"16\",\"17\",\"18\",\"19\",\"20\",\"21\",\"22\",\"23\",\"24\",\"25\",\"26\",\"27\",\\\n",
    "    \"28\",\"29\",\"30\",\"31\"]\n",
    "hours = [\"0000\",\"0100\",\"0200\",\"0300\",\"0400\",\"0500\",\"0600\",\"0700\",\"0800\",\\\n",
    "    \"0900\",\"1000\",\"1100\",\"1200\",\"1300\",\"1400\",\"1500\",\"1600\",\"1700\",\"1800\",\\\n",
    "    \"1900\",\"2000\",\"2100\",\"2200\",\"2300\"]\n",
    "\n",
    "##### Ensure that folders exist to store outputs #####\n",
    "detpath = outpath+\"/detection\"+verd\n",
    "trkpath = outpath+\"/tracking\"+verd+vert\n",
    "try:\n",
    "    os.chdir(detpath)\n",
    "except:\n",
    "    os.mkdir(detpath)\n",
    "    os.chdir(detpath)\n",
    "    os.mkdir(\"CycloneFields\")\n",
    "try:\n",
    "    os.chdir(trkpath)\n",
    "except:\n",
    "    os.mkdir(trkpath)\n",
    "    os.chdir(trkpath)\n",
    "    os.mkdir(\"CycloneTracks\")\n",
    "    os.mkdir(\"ActiveTracks\")\n",
    "    os.mkdir(\"SystemTracks\")"
   ]
  },
  {
   "cell_type": "code",
   "execution_count": 14,
   "id": "1aee4b1e-2af9-4291-9274-02b53e14ba17",
   "metadata": {},
   "outputs": [],
   "source": [
    "##### Read in attributes of reference files #####\n",
    "projnc = nc.Dataset(suppath)\n",
    "\n",
    "lats = projnc['lat'][:].data\n",
    "lons = projnc['lon'][:].data\n",
    "yDist = projnc['yDistance'][:].data\n",
    "xDist = projnc['xDistance'][:].data\n",
    "elev = projnc['z'][:]\n",
    "\n",
    "# Generate mask based on latitude and elevation\n",
    "mask = np.where((elev > maxelev) | (np.abs(lats) < minlat),np.nan,0)\n",
    "\n",
    "# Convert kernel size to grid cells\n",
    "kSize = int(2*kSizekm/spres)+1\n",
    "\n",
    "# Convert max speed to max distance\n",
    "maxdist = maxspeed*1000*timestep[3]\n",
    "\n",
    "# Save Parameters\n",
    "params = dict({\"path\":trkpath,\"timestep\":timestep, \"dateref\":dateref, \"minsurf\":minsurf, \n",
    "    \"maxsurf\":maxsurf,\"kSize\":kSize, \"nanThresh\":nanThresh, \"d_slp\":d_slp, \\\n",
    "    \"d_dist\":d_dist, \"maxelev\":maxelev, \"minlat\":minlat, \"contint\":contint, \n",
    "    \"mcctol\":mcctol, \"mccdist\":mccdist, \"maxspeed\":maxspeed, \"red\":red, \"spres\":spres})\n",
    "pd.to_pickle(params,trkpath+\"/cycloneparams.pkl\")"
   ]
  },
  {
   "cell_type": "code",
   "execution_count": 15,
   "id": "88e5c2ff-d397-4326-8785-e6236c573dc6",
   "metadata": {},
   "outputs": [
    {
     "name": "stdout",
     "output_type": "stream",
     "text": [
      "Cyclone Detection & Tracking\n",
      " Elapsed time: 0.0 seconds -- Starting first month\n",
      "  Exporting Tracks for 2022 Feb -- Elapsed Time: 8.7 seconds\n",
      "Complete\n"
     ]
    }
   ],
   "source": [
    "start = time.perf_counter()\n",
    "##### The actual detection and tracking #####\n",
    "print(\"Cyclone Detection & Tracking\")\n",
    "# Print elapsed time\n",
    "print(' Elapsed time:',round(time.perf_counter()-start,2),'seconds -- Starting first month')\n",
    "\n",
    "# Load netcdf for initial time\n",
    "ncf = nc.Dataset(inpath)\n",
    "tlist = ncf['time'][:].data\n",
    "cflist = []\n",
    "\n",
    "t = copy.deepcopy(starttime)\n",
    "while t != endtime:\n",
    "    # Extract date\n",
    "    Y = str(t[0])\n",
    "    MM = months[t[1]-1]\n",
    "    M = mons[t[1]-1]\n",
    "    date = Y+M+days[t[2]-1]+\"_\"+hours[t[3]]\n",
    "\n",
    "    # Load surface\n",
    "    try: # If the cyclone field has already been calculated, no need to repeat\n",
    "        cf = pd.read_pickle(detpath+\"/CycloneFields/CF\"+date+\".pkl\")\n",
    "    except:\n",
    "        # print(tlist)\n",
    "        # print(md.daysBetweenDates(dateref,t))\n",
    "        # print(np.where(tlist == md.daysBetweenDates(dateref,t)*24))\n",
    "        surf = ncf[ncvar][np.where(tlist == md.daysBetweenDates(dateref,t,dpy=daysBetween_dpy,lys=daysBetween_lys)*daysBetween_adjustment)[0][0],:,:]\n",
    "        surf = np.where((surf < minsurf) | (surf > maxsurf), np.nan, surf)\n",
    "        \n",
    "        # Create a cyclone field object\n",
    "        cf = md.cyclonefield(md.daysBetweenDates(dateref,t,dpy=daysBetween_dpy,lys=daysBetween_lys))\n",
    "        \n",
    "        # Identify cyclone centers\n",
    "        cf.findCenters(surf, mask, kSize, nanThresh, d_slp, d_dist, yDist, xDist, lats, lons) # Identify Cyclone Centers\n",
    "\n",
    "        # Calculate cyclone areas (and MCCs)\n",
    "        cf.findAreas(surf+mask, contint, mcctol, mccdist, lats, lons, kSize) # Calculate Cyclone Areas\n",
    "    \n",
    "        pd.to_pickle(cf,detpath+\"/CycloneFields/CF\"+date+\".pkl\")\n",
    "\n",
    "    # Track Cyclones\n",
    "    if t == starttime: # If this is the first time step, must initiate tracking\n",
    "        if prior == 0: #If this is the first time step and there are no prior months\n",
    "            ct, cf.cyclones = md.startTracks(cf.cyclones)\n",
    "    \n",
    "        else: #If this is the first time step but there is a prior month\n",
    "            # Identify date/time of prior timestep\n",
    "            tp = md.timeAdd(t,[-i for i in timestep],dpy=daysBetween_dpy,lys=daysBetween_lys)\n",
    "            datep = str(tp[0]) + str(mons[tp[1]-1]) + days[tp[2]-1]+\"_\"+hours[tp[3]]\n",
    "            cffilep = \"CF\"+datep+\".pkl\"\n",
    "            \n",
    "            # Load cyclone tracks and cyclone field from prior time step\n",
    "            ct = pd.read_pickle(trkpath+\"/ActiveTracks/activetracks\"+str(tp[0])+str(mons[tp[1]-1])+\".pkl\")\n",
    "            cf1 = pd.read_pickle(detpath+\"/CycloneFields/\"+cffilep)\n",
    "            md.realignPriorTID(ct,cf1)\n",
    "            \n",
    "            # move into normal tracking\n",
    "            ct, cf = md.trackCyclones(cf1,cf,ct,maxdist,red,timestep[3])\n",
    "    \n",
    "    else: #If this isn't the first time step, just keep tracking\n",
    "        ct, cf = md.trackCyclones(cf1,cf,ct,maxdist,red,timestep[3])\n",
    "    \n",
    "    # Increment time step indicator\n",
    "    t = md.timeAdd(t,timestep,dpy=daysBetween_dpy,lys=daysBetween_lys)\n",
    "    cf1 = copy.deepcopy(cf)\n",
    "        \n",
    "    # Save Tracks (at the end of each month)\n",
    "    if t == endtime: # If the next timestep is the 0th hour of the 1st day of a month,\n",
    "        print(\"  Exporting Tracks for \" + Y + \" \" + MM + ' -- Elapsed Time: ' + str(round(time.perf_counter()-start,2)) + ' seconds')\n",
    "        ct, ct_inactive = md.splitActiveTracks(ct, cf1)\n",
    "        \n",
    "        # Export inactive tracks\n",
    "        pd.to_pickle(ct_inactive+ct,trkpath+\"/CycloneTracks/cyclonetracks\"+Y+M+\".pkl\")\n",
    "        pd.to_pickle(ct,trkpath+\"/ActiveTracks/activetracks\"+Y+M+\".pkl\")\n",
    "\n",
    "print(\"Complete\")"
   ]
  },
  {
   "cell_type": "markdown",
   "id": "6964b052-3bd5-4423-a09b-668b182244fd",
   "metadata": {},
   "source": [
    "# Conversion to cyclone system tracks"
   ]
  },
  {
   "cell_type": "markdown",
   "id": "258765c5-59be-488d-bb02-56110dc80146",
   "metadata": {},
   "source": [
    "## add in additional args"
   ]
  },
  {
   "cell_type": "code",
   "execution_count": 16,
   "id": "41db4018-4873-4469-963d-4f317c7e795e",
   "metadata": {},
   "outputs": [],
   "source": [
    "refpath=inpath[:]\n",
    "inpath=outpath+'/tracking12_4TestTracks/'\n",
    "outpath=inpath[:]\n",
    "\n",
    "## extra parameters\n",
    "subset=\"\"\n",
    "rg=1\n",
    "reftime = copy.deepcopy(starttime)"
   ]
  },
  {
   "cell_type": "markdown",
   "id": "b87549f5-b4f3-47da-a963-2c75c9e0595d",
   "metadata": {},
   "source": [
    "## create system tracks"
   ]
  },
  {
   "cell_type": "code",
   "execution_count": 17,
   "id": "dc7fdffb-8e10-4b12-9a7b-dfe94d165bab",
   "metadata": {},
   "outputs": [
    {
     "name": "stdout",
     "output_type": "stream",
     "text": [
      "Main Analysis\n",
      " 2022 - 02\n",
      "Elapsed time: 9.43 seconds\n"
     ]
    }
   ],
   "source": [
    "print(\"Main Analysis\")\n",
    "\n",
    "mt = starttime\n",
    "\n",
    "# Extract date\n",
    "Y = str(mt[0])\n",
    "M = mons[mt[1]-1]\n",
    "print (\" \" + Y + \" - \" + M)\n",
    "\n",
    "# Load Cyclone Tracks\n",
    "ct = pd.read_pickle(inpath+\"/CycloneTracks/\"+subset+\"cyclonetracks\"+Y+M+\".pkl\")\n",
    "\n",
    "# Create System Tracks\n",
    "cs, cs0 = md.cTrack2sTrack(ct,[],dateref,rg,dpy=daysBetween_dpy,lyb=daysBetween_lys)\n",
    "pd.to_pickle(cs,inpath+\"/SystemTracks/\"+subset+\"systemtracks\"+Y+M+\".pkl\")\n",
    "\n",
    "print('Elapsed time:',round(time.perf_counter()-start,2),'seconds')"
   ]
  },
  {
   "cell_type": "markdown",
   "id": "df25ec4f-8b17-4f6a-928d-2c15c39be42e",
   "metadata": {},
   "source": [
    "## postprocess to hdf"
   ]
  },
  {
   "cell_type": "code",
   "execution_count": 18,
   "id": "e37ebcc0-1bd3-47ca-80c2-cd955b843fa4",
   "metadata": {},
   "outputs": [],
   "source": [
    "systemtracks = glob.glob(inpath+\"SystemTracks/*.pkl\")\n",
    "\n",
    "for track in systemtracks:\n",
    "    \n",
    "    fname = track.split('/')[-1].split('.')[0]\n",
    "    fyear = int(fname[-6:-2])\n",
    "    fmon = int(fname[-2:])\n",
    "    fpath = '/'.join(track.split('/')[:-1])\n",
    "    \n",
    "    pkl = pd.read_pickle(track)\n",
    "    concat = pd.concat([x.data.assign(sid=x.sid,year=fyear,mon=fmon,uid=fyear+fmon+x.sid) for x in pkl])\n",
    "    \n",
    "    concat['uid'] = concat.year.apply(lambda x: '{:04d}'.format(x))+concat.mon.apply(lambda x: '{:02d}'.format(x))+concat.sid.apply(lambda x: '{:03d}'.format(x))\n",
    "    concat['date'] = pd.TimedeltaIndex(concat.time,unit='days') + pd.to_datetime('{}-{}-{}'.format(*dateref[:3]))\n",
    "    concat['dDist'] = np.sqrt((concat.Dx*spres)**2+(concat.Dy*spres)**2)\n",
    "    \n",
    "    concat.to_hdf('/'.join(fpath.split('/')[:-3])+'/'+fpath.split('/')[-3]+'.h5','systemtracks')"
   ]
  },
  {
   "cell_type": "markdown",
   "id": "9f666e70-2c92-446b-bf86-417454479b11",
   "metadata": {},
   "source": [
    "# check output if required"
   ]
  },
  {
   "cell_type": "code",
   "execution_count": 19,
   "id": "f2a30793-5103-4220-8f42-6e4c7395c014",
   "metadata": {},
   "outputs": [],
   "source": [
    "import seaborn as sn\n",
    "import cartopy.crs as crs\n",
    "import matplotlib.pyplot as plt"
   ]
  },
  {
   "cell_type": "code",
   "execution_count": 20,
   "id": "852c9fa4-0149-4934-b2c9-f4a2b7bebaef",
   "metadata": {},
   "outputs": [],
   "source": [
    "df = pd.read_hdf('/gf3/predict2/AWH012_LEACH_NASTORM/DATA/postproc/tracks/MED-R/ENS/EU025/sfc/cf/1_2022-02-10.h5')"
   ]
  },
  {
   "cell_type": "code",
   "execution_count": 21,
   "id": "1212c2a1-a049-4dbd-93a4-65e7d5094abc",
   "metadata": {},
   "outputs": [
    {
     "data": {
      "text/plain": [
       "<cartopy.mpl.feature_artist.FeatureArtist at 0x7ef9b6babfd0>"
      ]
     },
     "execution_count": 21,
     "metadata": {},
     "output_type": "execute_result"
    },
    {
     "data": {
      "image/png": "[encoded data removed]",
      "text/plain": [
       "<Figure size 640x480 with 1 Axes>"
      ]
     },
     "metadata": {},
     "output_type": "display_data"
    }
   ],
   "source": [
    "fig,ax = plt.subplots(subplot_kw=dict(projection=crs.PlateCarree()))\n",
    "\n",
    "sn.lineplot(data=df,x='long',y='lat',hue='uid',legend=False)\n",
    "\n",
    "ax.coastlines()"
   ]
  },
  {
   "cell_type": "code",
   "execution_count": 2,
   "id": "b9fff3a2-b6ee-4bf2-82f0-28f98b93832c",
   "metadata": {},
   "outputs": [
    {
     "name": "stderr",
     "output_type": "stream",
     "text": [
      "/home/l/leach/installed-packages/miniconda3/lib/python3.7/site-packages/xarray/backends/cfgrib_.py:28: UserWarning: Failed to load cfgrib - most likely there is a problem accessing the ecCodes library. Try `import cfgrib` to get the full error message\n",
      "  \"Failed to load cfgrib - most likely there is a problem accessing the ecCodes library. \"\n"
     ]
    }
   ],
   "source": [
    "import xarray as xr"
   ]
  },
  {
   "cell_type": "code",
   "execution_count": 3,
   "id": "6da2158a-86cc-47cd-bf0d-4cc28c878073",
   "metadata": {},
   "outputs": [
    {
     "name": "stderr",
     "output_type": "stream",
     "text": [
      "/home/l/leach/installed-packages/miniconda3/lib/python3.7/site-packages/xarray/backends/plugins.py:68: RuntimeWarning: Engine 'cfgrib' loading failed:\n",
      "/home/l/leach/installed-packages/miniconda3/lib/python3.7/site-packages/_cffi_backend.cpython-37m-x86_64-linux-gnu.so: symbol ffi_type_uint32 version LIBFFI_BASE_7.0 not defined in file libffi.so.7 with link time reference\n",
      "  warnings.warn(f\"Engine {name!r} loading failed:\\n{ex}\", RuntimeWarning)\n"
     ]
    }
   ],
   "source": [
    "ds0=xr.open_dataset('/home/l/leach/Attribution/NA-Storms/Nick/Scripts/tracking/1_2022-02-07_1.nc')\n",
    "ds1=xr.open_dataset('/network/group/aopp/predict/AWH012_LEACH_NASTORM/DATA/MED-R/ENS/EU025/sfc/pf/1_2022-02-07.nc')"
   ]
  },
  {
   "cell_type": "code",
   "execution_count": null,
   "id": "a8ea2c1a-7cee-4dc5-9ac2-6b00fc35f56c",
   "metadata": {},
   "outputs": [],
   "source": []
  }
 ],
 "metadata": {
  "kernelspec": {
   "display_name": "Python 3 (ipykernel)",
   "language": "python",
   "name": "python3"
  },
  "language_info": {
   "codemirror_mode": {
    "name": "ipython",
    "version": 3
   },
   "file_extension": ".py",
   "mimetype": "text/x-python",
   "name": "python",
   "nbconvert_exporter": "python",
   "pygments_lexer": "ipython3",
   "version": "3.7.12"
  }
 },
 "nbformat": 4,
 "nbformat_minor": 5
}
