{
 "cells": [
  {
   "cell_type": "code",
   "execution_count": 1,
   "metadata": {},
   "outputs": [],
   "source": [
    "import os\n",
    "import sys\n",
    "import country_converter as coco\n",
    "cc = coco.CountryConverter()"
   ]
  },
  {
   "cell_type": "code",
   "execution_count": 2,
   "metadata": {},
   "outputs": [],
   "source": [
    "# make connection to all the scripts\n",
    "sys.path.append(os.path.join( '/home/l/leach/installed-packages/WISC/'))\n",
    "from scripts.utils import load_config,create_folder_structure,get_num,download_osm_file\n",
    "from scripts.analyze import losses,exposure"
   ]
  },
  {
   "cell_type": "code",
   "execution_count": 3,
   "metadata": {},
   "outputs": [],
   "source": [
    "# make connection to the data paths\n",
    "data_path = load_config()['paths']['data']\n",
    "storms_path =  load_config()['paths']['hazard_data']    "
   ]
  },
  {
   "cell_type": "code",
   "execution_count": 4,
   "metadata": {},
   "outputs": [],
   "source": [
    "# set country\n",
    "country = 'UK'"
   ]
  },
  {
   "cell_type": "code",
   "execution_count": 5,
   "metadata": {},
   "outputs": [],
   "source": [
    "#set folder structure for calculation\n",
    "create_folder_structure(data_path,country)"
   ]
  },
  {
   "cell_type": "code",
   "execution_count": 6,
   "metadata": {
    "collapsed": true,
    "jupyter": {
     "outputs_hidden": true
    },
    "tags": []
   },
   "outputs": [
    {
     "name": "stdout",
     "output_type": "stream",
     "text": [
      "9880\n",
      "Fetched all buildings from osm data for UKN0B\n",
      "9880\n"
     ]
    },
    {
     "name": "stderr",
     "output_type": "stream",
     "text": [
      "/home/l/leach/installed-packages/WISC/scripts/functions.py:85: UserWarning: Geometry is in a geographic CRS. Results from 'centroid' are likely incorrect. Use 'GeoSeries.to_crs()' to re-project geometries to a projected CRS before this operation.\n",
      "\n",
      "  gdf_table[\"centroid_epsg4326\"] = gdf_table.geometry.to_crs('EPSG:4326').centroid\n",
      "CLC_2012_UKN0B: 100%|██████████| 9880/9880 [00:02<00:00, 4241.17it/s]\n",
      "UKN0B:   1%|          | 3/460 [00:05<15:16,  2.00s/it]"
     ]
    },
    {
     "name": "stdout",
     "output_type": "stream",
     "text": [
      "2925\n",
      "Fetched all buildings from osm data for UKN09\n",
      "18391\n",
      "2925\n",
      "15259\n",
      "Fetched all buildings from osm data for UKN0E\n",
      "Fetched all buildings from osm data for UKN0D\n"
     ]
    },
    {
     "name": "stderr",
     "output_type": "stream",
     "text": [
      "UKN0B:   1%|          | 4/460 [00:08<15:54,  2.09s/it]"
     ]
    },
    {
     "name": "stdout",
     "output_type": "stream",
     "text": [
      "20444\n"
     ]
    },
    {
     "name": "stderr",
     "output_type": "stream",
     "text": [
      "/home/l/leach/installed-packages/WISC/scripts/functions.py:85: UserWarning: Geometry is in a geographic CRS. Results from 'centroid' are likely incorrect. Use 'GeoSeries.to_crs()' to re-project geometries to a projected CRS before this operation.\n",
      "\n",
      "  gdf_table[\"centroid_epsg4326\"] = gdf_table.geometry.to_crs('EPSG:4326').centroid\n"
     ]
    },
    {
     "name": "stdout",
     "output_type": "stream",
     "text": [
      "23420\n",
      "22710\n"
     ]
    },
    {
     "name": "stderr",
     "output_type": "stream",
     "text": [
      "CLC_2012_UKN09:   0%|          | 0/2925 [00:00<?, ?it/s]"
     ]
    },
    {
     "name": "stdout",
     "output_type": "stream",
     "text": [
      "Fetched all buildings from osm data for UKN07\n"
     ]
    },
    {
     "name": "stderr",
     "output_type": "stream",
     "text": [
      "CLC_2012_UKN09:  14%|█▍        | 419/2925 [00:00<00:00, 4181.62it/s]"
     ]
    },
    {
     "name": "stdout",
     "output_type": "stream",
     "text": [
      "Fetched all buildings from osm data for UKN06\n"
     ]
    },
    {
     "name": "stderr",
     "output_type": "stream",
     "text": [
      "CLC_2012_UKN09:  29%|██▉       | 843/2925 [00:00<00:00, 4213.01it/s]"
     ]
    },
    {
     "name": "stdout",
     "output_type": "stream",
     "text": [
      "24074\n"
     ]
    },
    {
     "name": "stderr",
     "output_type": "stream",
     "text": [
      "CLC_2012_UKN09:  73%|███████▎  | 2124/2925 [00:00<00:00, 4249.16it/s]"
     ]
    },
    {
     "name": "stdout",
     "output_type": "stream",
     "text": [
      "Fetched all buildings from osm data for UKN0F\n"
     ]
    },
    {
     "name": "stderr",
     "output_type": "stream",
     "text": [
      "CLC_2012_UKN09: 100%|██████████| 2925/2925 [00:00<00:00, 4278.58it/s]\n"
     ]
    },
    {
     "name": "stdout",
     "output_type": "stream",
     "text": [
      "Fetched all buildings from osm data for UKN0G\n"
     ]
    },
    {
     "name": "stderr",
     "output_type": "stream",
     "text": [
      "UKN09:   0%|          | 1/460 [00:00<05:19,  1.44it/s]"
     ]
    },
    {
     "name": "stdout",
     "output_type": "stream",
     "text": [
      "53189\n",
      "41919\n",
      "15259\n",
      "47013\n"
     ]
    },
    {
     "name": "stderr",
     "output_type": "stream",
     "text": [
      "UKN09:   0%|          | 2/460 [00:01<05:17,  1.44it/s]"
     ]
    },
    {
     "name": "stdout",
     "output_type": "stream",
     "text": [
      "18391\n",
      "Fetched all buildings from osm data for UKN0C\n",
      "Fetched all buildings from osm data for UKN08\n"
     ]
    },
    {
     "name": "stderr",
     "output_type": "stream",
     "text": [
      "UKN09:   1%|          | 3/460 [00:02<05:17,  1.44it/s]"
     ]
    },
    {
     "name": "stdout",
     "output_type": "stream",
     "text": [
      "Fetched all buildings from osm data for UKN0A\n"
     ]
    },
    {
     "name": "stderr",
     "output_type": "stream",
     "text": [
      "UKN09:   1%|          | 4/460 [00:02<05:14,  1.45it/s]"
     ]
    },
    {
     "name": "stdout",
     "output_type": "stream",
     "text": [
      "23420\n",
      "20444\n"
     ]
    },
    {
     "name": "stderr",
     "output_type": "stream",
     "text": [
      "UKN0B:   2%|▏         | 7/460 [00:13<13:34,  1.80s/it]"
     ]
    },
    {
     "name": "stdout",
     "output_type": "stream",
     "text": [
      "24074\n"
     ]
    },
    {
     "name": "stderr",
     "output_type": "stream",
     "text": [
      "/home/l/leach/installed-packages/WISC/scripts/functions.py:85: UserWarning: Geometry is in a geographic CRS. Results from 'centroid' are likely incorrect. Use 'GeoSeries.to_crs()' to re-project geometries to a projected CRS before this operation.\n",
      "\n",
      "  gdf_table[\"centroid_epsg4326\"] = gdf_table.geometry.to_crs('EPSG:4326').centroid\n",
      "CLC_2012_UKN0D:   0%|          | 0/15259 [00:00<?, ?it/s]"
     ]
    },
    {
     "name": "stdout",
     "output_type": "stream",
     "text": [
      "22710\n"
     ]
    },
    {
     "name": "stderr",
     "output_type": "stream",
     "text": [
      "CLC_2012_UKN0D:   4%|▍         | 580/15259 [00:00<00:02, 5796.52it/s]/home/l/leach/installed-packages/WISC/scripts/functions.py:85: UserWarning: Geometry is in a geographic CRS. Results from 'centroid' are likely incorrect. Use 'GeoSeries.to_crs()' to re-project geometries to a projected CRS before this operation.\n",
      "\n",
      "  gdf_table[\"centroid_epsg4326\"] = gdf_table.geometry.to_crs('EPSG:4326').centroid\n",
      "CLC_2012_UKN0E:  63%|██████▎   | 11625/18391 [00:02<00:01, 5578.94it/s]/home/l/leach/installed-packages/WISC/scripts/functions.py:85: UserWarning: Geometry is in a geographic CRS. Results from 'centroid' are likely incorrect. Use 'GeoSeries.to_crs()' to re-project geometries to a projected CRS before this operation.\n",
      "\n",
      "  gdf_table[\"centroid_epsg4326\"] = gdf_table.geometry.to_crs('EPSG:4326').centroid\n",
      "CLC_2012_UKN0D:  98%|█████████▊| 14989/15259 [00:03<00:00, 3460.77it/s]/home/l/leach/installed-packages/WISC/scripts/functions.py:85: UserWarning: Geometry is in a geographic CRS. Results from 'centroid' are likely incorrect. Use 'GeoSeries.to_crs()' to re-project geometries to a projected CRS before this operation.\n",
      "\n",
      "  gdf_table[\"centroid_epsg4326\"] = gdf_table.geometry.to_crs('EPSG:4326').centroid\n",
      "CLC_2012_UKN0D: 100%|██████████| 15259/15259 [00:03<00:00, 4193.35it/s]\n",
      "CLC_2012_UKN0E:  76%|███████▌  | 13888/18391 [00:02<00:00, 5562.92it/s]/home/l/leach/installed-packages/WISC/scripts/functions.py:85: UserWarning: Geometry is in a geographic CRS. Results from 'centroid' are likely incorrect. Use 'GeoSeries.to_crs()' to re-project geometries to a projected CRS before this operation.\n",
      "\n",
      "  gdf_table[\"centroid_epsg4326\"] = gdf_table.geometry.to_crs('EPSG:4326').centroid\n",
      "CLC_2012_UKN0E:  93%|█████████▎| 17193/18391 [00:03<00:00, 5390.63it/s]/home/l/leach/installed-packages/WISC/scripts/functions.py:85: UserWarning: Geometry is in a geographic CRS. Results from 'centroid' are likely incorrect. Use 'GeoSeries.to_crs()' to re-project geometries to a projected CRS before this operation.\n",
      "\n",
      "  gdf_table[\"centroid_epsg4326\"] = gdf_table.geometry.to_crs('EPSG:4326').centroid\n",
      "CLC_2012_UKN0E:  99%|█████████▉| 18287/18391 [00:03<00:00, 4762.11it/s]"
     ]
    },
    {
     "name": "stdout",
     "output_type": "stream",
     "text": [
      "41919\n"
     ]
    },
    {
     "name": "stderr",
     "output_type": "stream",
     "text": [
      "CLC_2012_UKN0E: 100%|██████████| 18391/18391 [00:03<00:00, 5002.42it/s]\n",
      "CLC_2012_UKN0G:   5%|▌         | 1305/24074 [00:00<00:05, 4370.42it/s]"
     ]
    },
    {
     "name": "stdout",
     "output_type": "stream",
     "text": [
      "47013\n"
     ]
    },
    {
     "name": "stderr",
     "output_type": "stream",
     "text": [
      "CLC_2012_UKN07:  37%|███▋      | 8773/23420 [00:01<00:03, 4613.88it/s]"
     ]
    },
    {
     "name": "stdout",
     "output_type": "stream",
     "text": [
      "53189\n"
     ]
    },
    {
     "name": "stderr",
     "output_type": "stream",
     "text": [
      "CLC_2012_UKN07: 100%|██████████| 23420/23420 [00:04<00:00, 5156.30it/s]\n",
      "CLC_2012_UKN06: 100%|██████████| 20444/20444 [00:04<00:00, 4567.80it/s]\n",
      "CLC_2012_UKN0G: 100%|██████████| 24074/24074 [00:04<00:00, 5051.25it/s]\n",
      "CLC_2012_UKN0F: 100%|██████████| 22710/22710 [00:04<00:00, 5205.59it/s]\n",
      "UKN0D:   1%|          | 3/460 [00:08<20:38,  2.71s/it]]/home/l/leach/installed-packages/WISC/scripts/functions.py:85: UserWarning: Geometry is in a geographic CRS. Results from 'centroid' are likely incorrect. Use 'GeoSeries.to_crs()' to re-project geometries to a projected CRS before this operation.\n",
      "\n",
      "  gdf_table[\"centroid_epsg4326\"] = gdf_table.geometry.to_crs('EPSG:4326').centroid\n",
      "CLC_2012_UKN0C:   8%|▊         | 3232/41919 [00:00<00:07, 5392.40it/s]/home/l/leach/installed-packages/WISC/scripts/functions.py:85: UserWarning: Geometry is in a geographic CRS. Results from 'centroid' are likely incorrect. Use 'GeoSeries.to_crs()' to re-project geometries to a projected CRS before this operation.\n",
      "\n",
      "  gdf_table[\"centroid_epsg4326\"] = gdf_table.geometry.to_crs('EPSG:4326').centroid\n",
      "CLC_2012_UKN0C:  34%|███▎      | 14115/41919 [00:02<00:05, 5481.98it/s]/home/l/leach/installed-packages/WISC/scripts/functions.py:85: UserWarning: Geometry is in a geographic CRS. Results from 'centroid' are likely incorrect. Use 'GeoSeries.to_crs()' to re-project geometries to a projected CRS before this operation.\n",
      "\n",
      "  gdf_table[\"centroid_epsg4326\"] = gdf_table.geometry.to_crs('EPSG:4326').centroid\n",
      "CLC_2012_UKN0C: 100%|██████████| 41919/41919 [00:08<00:00, 4933.18it/s]\n",
      "CLC_2012_UKN0A: 100%|██████████| 47013/47013 [00:08<00:00, 5392.21it/s]\n",
      "CLC_2012_UKN08: 100%|██████████| 53189/53189 [00:09<00:00, 5579.40it/s]\n",
      "UKN09: 100%|██████████| 460/460 [05:20<00:00,  1.44it/s] \n",
      "UKN06:  20%|█▉        | 91/460 [05:07<20:34,  3.35s/it]]"
     ]
    },
    {
     "name": "stdout",
     "output_type": "stream",
     "text": [
      "Obtained all storm information for UKN09\n"
     ]
    },
    {
     "name": "stderr",
     "output_type": "stream",
     "text": [
      "UKN0D:  29%|██▉       | 135/460 [05:30<13:02,  2.41s/it]/home/l/leach/installed-packages/WISC/scripts/functions.py:211: VisibleDeprecationWarning: Passing `normed=True` on non-uniform bins has always been broken, and computes neither the probability density function nor the probability mass function. The result is only correct if the bins are uniform, when density=True will produce the same result anyway. The argument will be removed in a future version of numpy.\n",
      "  H,X1 = np.histogram(row, bins = 100, normed = True )\n",
      "UKN0D:  30%|██▉       | 136/460 [05:32<13:02,  2.41s/it]"
     ]
    },
    {
     "name": "stdout",
     "output_type": "stream",
     "text": [
      "Finished with risk calculation for UKN09\n"
     ]
    },
    {
     "name": "stderr",
     "output_type": "stream",
     "text": [
      "UKN0B: 100%|██████████| 460/460 [12:32<00:00,  1.64s/it]\n",
      "UKN0G:  41%|████      | 189/460 [12:09<16:36,  3.68s/it]"
     ]
    },
    {
     "name": "stdout",
     "output_type": "stream",
     "text": [
      "Obtained all storm information for UKN0B\n"
     ]
    },
    {
     "name": "stderr",
     "output_type": "stream",
     "text": [
      "UKN0F:  47%|████▋     | 218/460 [12:49<14:07,  3.50s/it]/home/l/leach/installed-packages/WISC/scripts/functions.py:211: VisibleDeprecationWarning: Passing `normed=True` on non-uniform bins has always been broken, and computes neither the probability density function nor the probability mass function. The result is only correct if the bins are uniform, when density=True will produce the same result anyway. The argument will be removed in a future version of numpy.\n",
      "  H,X1 = np.histogram(row, bins = 100, normed = True )\n",
      "UKN0D:  70%|██████▉   | 321/460 [13:00<05:45,  2.48s/it]"
     ]
    },
    {
     "name": "stdout",
     "output_type": "stream",
     "text": [
      "Finished with risk calculation for UKN0B\n"
     ]
    },
    {
     "name": "stderr",
     "output_type": "stream",
     "text": [
      "UKN0D: 100%|██████████| 460/460 [18:44<00:00,  2.44s/it]\n",
      "UKN0A:  32%|███▏      | 145/460 [18:25<38:26,  7.32s/it]"
     ]
    },
    {
     "name": "stdout",
     "output_type": "stream",
     "text": [
      "Obtained all storm information for UKN0D\n"
     ]
    },
    {
     "name": "stderr",
     "output_type": "stream",
     "text": [
      "UKN0E:  87%|████████▋ | 399/460 [19:44<03:04,  3.03s/it]/home/l/leach/installed-packages/WISC/scripts/functions.py:211: VisibleDeprecationWarning: Passing `normed=True` on non-uniform bins has always been broken, and computes neither the probability density function nor the probability mass function. The result is only correct if the bins are uniform, when density=True will produce the same result anyway. The argument will be removed in a future version of numpy.\n",
      "  H,X1 = np.histogram(row, bins = 100, normed = True )\n",
      "UKN0C:  38%|███▊      | 175/460 [19:34<31:15,  6.58s/it]"
     ]
    },
    {
     "name": "stdout",
     "output_type": "stream",
     "text": [
      "Finished with risk calculation for UKN0D\n"
     ]
    },
    {
     "name": "stderr",
     "output_type": "stream",
     "text": [
      "UKN0E: 100%|██████████| 460/460 [22:40<00:00,  2.96s/it]\n",
      "UKN0F:  82%|████████▏ | 377/460 [22:37<04:50,  3.50s/it]"
     ]
    },
    {
     "name": "stdout",
     "output_type": "stream",
     "text": [
      "Obtained all storm information for UKN0E\n"
     ]
    },
    {
     "name": "stderr",
     "output_type": "stream",
     "text": [
      "UKN06:  94%|█████████▍| 432/460 [23:46<01:35,  3.43s/it]/home/l/leach/installed-packages/WISC/scripts/functions.py:211: VisibleDeprecationWarning: Passing `normed=True` on non-uniform bins has always been broken, and computes neither the probability density function nor the probability mass function. The result is only correct if the bins are uniform, when density=True will produce the same result anyway. The argument will be removed in a future version of numpy.\n",
      "  H,X1 = np.histogram(row, bins = 100, normed = True )\n",
      "UKN07:  82%|████████▏ | 378/460 [23:54<05:15,  3.85s/it]"
     ]
    },
    {
     "name": "stdout",
     "output_type": "stream",
     "text": [
      "Finished with risk calculation for UKN0E\n"
     ]
    },
    {
     "name": "stderr",
     "output_type": "stream",
     "text": [
      "UKN06: 100%|██████████| 460/460 [25:20<00:00,  3.31s/it]\n",
      "UKN0F:  92%|█████████▏| 423/460 [25:20<02:04,  3.36s/it]"
     ]
    },
    {
     "name": "stdout",
     "output_type": "stream",
     "text": [
      "Obtained all storm information for UKN06\n"
     ]
    },
    {
     "name": "stderr",
     "output_type": "stream",
     "text": [
      "UKN0G:  92%|█████████▏| 421/460 [26:38<02:25,  3.73s/it]/home/l/leach/installed-packages/WISC/scripts/functions.py:211: VisibleDeprecationWarning: Passing `normed=True` on non-uniform bins has always been broken, and computes neither the probability density function nor the probability mass function. The result is only correct if the bins are uniform, when density=True will produce the same result anyway. The argument will be removed in a future version of numpy.\n",
      "  H,X1 = np.histogram(row, bins = 100, normed = True )\n",
      "UKN0F:  97%|█████████▋| 448/460 [26:48<00:42,  3.54s/it]"
     ]
    },
    {
     "name": "stdout",
     "output_type": "stream",
     "text": [
      "Finished with risk calculation for UKN06\n"
     ]
    },
    {
     "name": "stderr",
     "output_type": "stream",
     "text": [
      "UKN0F: 100%|██████████| 460/460 [27:30<00:00,  3.59s/it]\n",
      "UKN07:  95%|█████████▌| 437/460 [27:33<01:20,  3.50s/it]"
     ]
    },
    {
     "name": "stdout",
     "output_type": "stream",
     "text": [
      "Obtained all storm information for UKN0F\n"
     ]
    },
    {
     "name": "stderr",
     "output_type": "stream",
     "text": [
      "UKN07: 100%|██████████| 460/460 [28:53<00:00,  3.77s/it]\n",
      "UKN0G: 100%|█████████▉| 458/460 [28:56<00:07,  3.72s/it]"
     ]
    },
    {
     "name": "stdout",
     "output_type": "stream",
     "text": [
      "Obtained all storm information for UKN07\n"
     ]
    },
    {
     "name": "stderr",
     "output_type": "stream",
     "text": [
      "/home/l/leach/installed-packages/WISC/scripts/functions.py:211: VisibleDeprecationWarning: Passing `normed=True` on non-uniform bins has always been broken, and computes neither the probability density function nor the probability mass function. The result is only correct if the bins are uniform, when density=True will produce the same result anyway. The argument will be removed in a future version of numpy.\n",
      "  H,X1 = np.histogram(row, bins = 100, normed = True )\n",
      "UKN0G: 100%|██████████| 460/460 [29:03<00:00,  3.79s/it]\n"
     ]
    },
    {
     "name": "stdout",
     "output_type": "stream",
     "text": [
      "Finished with risk calculation for UKN0F\n",
      "Obtained all storm information for UKN0G\n"
     ]
    },
    {
     "name": "stderr",
     "output_type": "stream",
     "text": [
      "UKN0C:  60%|█████▉    | 274/460 [30:05<19:10,  6.18s/it]/home/l/leach/installed-packages/WISC/scripts/functions.py:211: VisibleDeprecationWarning: Passing `normed=True` on non-uniform bins has always been broken, and computes neither the probability density function nor the probability mass function. The result is only correct if the bins are uniform, when density=True will produce the same result anyway. The argument will be removed in a future version of numpy.\n",
      "  H,X1 = np.histogram(row, bins = 100, normed = True )\n",
      "UKN0C:  60%|█████▉    | 275/460 [30:11<19:03,  6.18s/it]/home/l/leach/installed-packages/WISC/scripts/functions.py:211: VisibleDeprecationWarning: Passing `normed=True` on non-uniform bins has always been broken, and computes neither the probability density function nor the probability mass function. The result is only correct if the bins are uniform, when density=True will produce the same result anyway. The argument will be removed in a future version of numpy.\n",
      "  H,X1 = np.histogram(row, bins = 100, normed = True )\n",
      "UKN08:  47%|████▋     | 218/460 [30:13<32:02,  7.95s/it]"
     ]
    },
    {
     "name": "stdout",
     "output_type": "stream",
     "text": [
      "Finished with risk calculation for UKN07\n"
     ]
    },
    {
     "name": "stderr",
     "output_type": "stream",
     "text": [
      "UKN08:  48%|████▊     | 219/460 [30:21<31:55,  7.95s/it]"
     ]
    },
    {
     "name": "stdout",
     "output_type": "stream",
     "text": [
      "Finished with risk calculation for UKN0G\n"
     ]
    },
    {
     "name": "stderr",
     "output_type": "stream",
     "text": [
      "UKN0C: 100%|██████████| 460/460 [50:05<00:00,  6.53s/it]\n",
      "UKN08:  80%|████████  | 369/460 [50:07<12:29,  8.24s/it]"
     ]
    },
    {
     "name": "stdout",
     "output_type": "stream",
     "text": [
      "Obtained all storm information for UKN0C\n"
     ]
    },
    {
     "name": "stderr",
     "output_type": "stream",
     "text": [
      "UKN0A:  95%|█████████▌| 439/460 [52:48<02:29,  7.10s/it]/home/l/leach/installed-packages/WISC/scripts/functions.py:211: VisibleDeprecationWarning: Passing `normed=True` on non-uniform bins has always been broken, and computes neither the probability density function nor the probability mass function. The result is only correct if the bins are uniform, when density=True will produce the same result anyway. The argument will be removed in a future version of numpy.\n",
      "  H,X1 = np.histogram(row, bins = 100, normed = True )\n",
      "UKN0A:  96%|█████████▌| 442/460 [53:09<02:08,  7.12s/it]"
     ]
    },
    {
     "name": "stdout",
     "output_type": "stream",
     "text": [
      "Finished with risk calculation for UKN0C\n"
     ]
    },
    {
     "name": "stderr",
     "output_type": "stream",
     "text": [
      "UKN0A: 100%|██████████| 460/460 [55:19<00:00,  7.22s/it]\n",
      "UKN08:  89%|████████▊ | 408/460 [55:26<06:52,  7.94s/it]"
     ]
    },
    {
     "name": "stdout",
     "output_type": "stream",
     "text": [
      "Obtained all storm information for UKN0A\n"
     ]
    },
    {
     "name": "stderr",
     "output_type": "stream",
     "text": [
      "UKN08:  93%|█████████▎| 428/460 [58:04<04:10,  7.83s/it]/home/l/leach/installed-packages/WISC/scripts/functions.py:211: VisibleDeprecationWarning: Passing `normed=True` on non-uniform bins has always been broken, and computes neither the probability density function nor the probability mass function. The result is only correct if the bins are uniform, when density=True will produce the same result anyway. The argument will be removed in a future version of numpy.\n",
      "  H,X1 = np.histogram(row, bins = 100, normed = True )\n",
      "UKN08:  94%|█████████▎| 431/460 [58:27<03:46,  7.81s/it]"
     ]
    },
    {
     "name": "stdout",
     "output_type": "stream",
     "text": [
      "Finished with risk calculation for UKN0A\n"
     ]
    },
    {
     "name": "stderr",
     "output_type": "stream",
     "text": [
      "UKN08: 100%|██████████| 460/460 [1:02:15<00:00,  8.12s/it]\n"
     ]
    },
    {
     "name": "stdout",
     "output_type": "stream",
     "text": [
      "Obtained all storm information for UKN08\n"
     ]
    },
    {
     "name": "stderr",
     "output_type": "stream",
     "text": [
      "/home/l/leach/installed-packages/WISC/scripts/functions.py:211: VisibleDeprecationWarning: Passing `normed=True` on non-uniform bins has always been broken, and computes neither the probability density function nor the probability mass function. The result is only correct if the bins are uniform, when density=True will produce the same result anyway. The argument will be removed in a future version of numpy.\n",
      "  H,X1 = np.histogram(row, bins = 100, normed = True )\n"
     ]
    },
    {
     "name": "stdout",
     "output_type": "stream",
     "text": [
      "Finished with risk calculation for UKN08\n",
      "CPU times: user 14.7 s, sys: 4.3 s, total: 19 s\n",
      "Wall time: 1h 6min 45s\n"
     ]
    },
    {
     "data": {
      "text/html": [
       "<div>\n",
       "<style scoped>\n",
       "    .dataframe tbody tr th:only-of-type {\n",
       "        vertical-align: middle;\n",
       "    }\n",
       "\n",
       "    .dataframe tbody tr th {\n",
       "        vertical-align: top;\n",
       "    }\n",
       "\n",
       "    .dataframe thead th {\n",
       "        text-align: right;\n",
       "    }\n",
       "</style>\n",
       "<table border=\"1\" class=\"dataframe\">\n",
       "  <thead>\n",
       "    <tr style=\"text-align: right;\">\n",
       "      <th></th>\n",
       "      <th>CLC_2012</th>\n",
       "      <th>centroid_epsg4326</th>\n",
       "      <th>AREA_m2</th>\n",
       "      <th>geometry</th>\n",
       "      <th>ID_</th>\n",
       "      <th>centroid</th>\n",
       "      <th>COUNTRY</th>\n",
       "      <th>osm_id</th>\n",
       "      <th>building</th>\n",
       "    </tr>\n",
       "  </thead>\n",
       "  <tbody>\n",
       "    <tr>\n",
       "      <th>0</th>\n",
       "      <td>2</td>\n",
       "      <td>POINT (-7.03944 54.45703)</td>\n",
       "      <td>7406.084116</td>\n",
       "      <td>MULTIPOLYGON (((3227463.997 3613276.718, 32274...</td>\n",
       "      <td>0_UKN0B</td>\n",
       "      <td>POINT (3227487.297 3613259.457)</td>\n",
       "      <td>UK</td>\n",
       "      <td>5381175</td>\n",
       "      <td>school</td>\n",
       "    </tr>\n",
       "    <tr>\n",
       "      <th>1</th>\n",
       "      <td>24</td>\n",
       "      <td>POINT (-6.90893 54.59452)</td>\n",
       "      <td>868.930719</td>\n",
       "      <td>MULTIPOLYGON (((3239286.678 3626237.313, 32392...</td>\n",
       "      <td>1_UKN0B</td>\n",
       "      <td>POINT (3239305.506 3626218.206)</td>\n",
       "      <td>UK</td>\n",
       "      <td>6377801</td>\n",
       "      <td>yes</td>\n",
       "    </tr>\n",
       "    <tr>\n",
       "      <th>2</th>\n",
       "      <td>11</td>\n",
       "      <td>POINT (-6.65795 54.46455)</td>\n",
       "      <td>1002.913485</td>\n",
       "      <td>MULTIPOLYGON (((3251665.128 3608376.192, 32516...</td>\n",
       "      <td>2_UKN0B</td>\n",
       "      <td>POINT (3251649.985 3608347.328)</td>\n",
       "      <td>UK</td>\n",
       "      <td>8662393</td>\n",
       "      <td>house</td>\n",
       "    </tr>\n",
       "    <tr>\n",
       "      <th>3</th>\n",
       "      <td>2</td>\n",
       "      <td>POINT (-6.69185 54.44770)</td>\n",
       "      <td>423.411811</td>\n",
       "      <td>MULTIPOLYGON (((3249067.857 3607010.156, 32490...</td>\n",
       "      <td>3_UKN0B</td>\n",
       "      <td>POINT (3249080.888 3607020.178)</td>\n",
       "      <td>UK</td>\n",
       "      <td>9360305</td>\n",
       "      <td>church</td>\n",
       "    </tr>\n",
       "    <tr>\n",
       "      <th>4</th>\n",
       "      <td>2</td>\n",
       "      <td>POINT (-6.51970 54.81002)</td>\n",
       "      <td>1398.637560</td>\n",
       "      <td>MULTIPOLYGON (((3269214.976 3643870.322, 32692...</td>\n",
       "      <td>4_UKN0B</td>\n",
       "      <td>POINT (3269248.522 3643864.604)</td>\n",
       "      <td>UK</td>\n",
       "      <td>11118347</td>\n",
       "      <td>school</td>\n",
       "    </tr>\n",
       "    <tr>\n",
       "      <th>...</th>\n",
       "      <td>...</td>\n",
       "      <td>...</td>\n",
       "      <td>...</td>\n",
       "      <td>...</td>\n",
       "      <td>...</td>\n",
       "      <td>...</td>\n",
       "      <td>...</td>\n",
       "      <td>...</td>\n",
       "      <td>...</td>\n",
       "    </tr>\n",
       "    <tr>\n",
       "      <th>47008</th>\n",
       "      <td>18</td>\n",
       "      <td>POINT (-7.26353 55.01884)</td>\n",
       "      <td>343.126475</td>\n",
       "      <td>MULTIPOLYGON (((3228558.879 3677643.254, 32285...</td>\n",
       "      <td>47008_UKN0A</td>\n",
       "      <td>POINT (3228565.907 3677633.780)</td>\n",
       "      <td>UK</td>\n",
       "      <td>None</td>\n",
       "      <td>house</td>\n",
       "    </tr>\n",
       "    <tr>\n",
       "      <th>47009</th>\n",
       "      <td>18</td>\n",
       "      <td>POINT (-7.26319 55.01878)</td>\n",
       "      <td>236.056386</td>\n",
       "      <td>MULTIPOLYGON (((3228580.222 3677632.115, 32285...</td>\n",
       "      <td>47009_UKN0A</td>\n",
       "      <td>POINT (3228585.596 3677622.710)</td>\n",
       "      <td>UK</td>\n",
       "      <td>None</td>\n",
       "      <td>house</td>\n",
       "    </tr>\n",
       "    <tr>\n",
       "      <th>47010</th>\n",
       "      <td>18</td>\n",
       "      <td>POINT (-7.26304 55.01866)</td>\n",
       "      <td>41.961398</td>\n",
       "      <td>MULTIPOLYGON (((3228590.113 3677612.026, 32285...</td>\n",
       "      <td>47010_UKN0A</td>\n",
       "      <td>POINT (3228591.677 3677607.662)</td>\n",
       "      <td>UK</td>\n",
       "      <td>None</td>\n",
       "      <td>garage</td>\n",
       "    </tr>\n",
       "    <tr>\n",
       "      <th>47011</th>\n",
       "      <td>2</td>\n",
       "      <td>POINT (-7.29692 54.98397)</td>\n",
       "      <td>136.195128</td>\n",
       "      <td>MULTIPOLYGON (((3225558.622 3674368.984, 32255...</td>\n",
       "      <td>47011_UKN0A</td>\n",
       "      <td>POINT (3225556.525 3674360.585)</td>\n",
       "      <td>UK</td>\n",
       "      <td>None</td>\n",
       "      <td>house</td>\n",
       "    </tr>\n",
       "    <tr>\n",
       "      <th>47012</th>\n",
       "      <td>2</td>\n",
       "      <td>POINT (-7.15463 54.91155)</td>\n",
       "      <td>129.758635</td>\n",
       "      <td>MULTIPOLYGON (((3232417.082 3664333.287, 32324...</td>\n",
       "      <td>47012_UKN0A</td>\n",
       "      <td>POINT (3232424.101 3664342.072)</td>\n",
       "      <td>UK</td>\n",
       "      <td>None</td>\n",
       "      <td>yes</td>\n",
       "    </tr>\n",
       "  </tbody>\n",
       "</table>\n",
       "<p>279224 rows × 9 columns</p>\n",
       "</div>"
      ],
      "text/plain": [
       "       CLC_2012          centroid_epsg4326      AREA_m2  \\\n",
       "0             2  POINT (-7.03944 54.45703)  7406.084116   \n",
       "1            24  POINT (-6.90893 54.59452)   868.930719   \n",
       "2            11  POINT (-6.65795 54.46455)  1002.913485   \n",
       "3             2  POINT (-6.69185 54.44770)   423.411811   \n",
       "4             2  POINT (-6.51970 54.81002)  1398.637560   \n",
       "...         ...                        ...          ...   \n",
       "47008        18  POINT (-7.26353 55.01884)   343.126475   \n",
       "47009        18  POINT (-7.26319 55.01878)   236.056386   \n",
       "47010        18  POINT (-7.26304 55.01866)    41.961398   \n",
       "47011         2  POINT (-7.29692 54.98397)   136.195128   \n",
       "47012         2  POINT (-7.15463 54.91155)   129.758635   \n",
       "\n",
       "                                                geometry          ID_  \\\n",
       "0      MULTIPOLYGON (((3227463.997 3613276.718, 32274...      0_UKN0B   \n",
       "1      MULTIPOLYGON (((3239286.678 3626237.313, 32392...      1_UKN0B   \n",
       "2      MULTIPOLYGON (((3251665.128 3608376.192, 32516...      2_UKN0B   \n",
       "3      MULTIPOLYGON (((3249067.857 3607010.156, 32490...      3_UKN0B   \n",
       "4      MULTIPOLYGON (((3269214.976 3643870.322, 32692...      4_UKN0B   \n",
       "...                                                  ...          ...   \n",
       "47008  MULTIPOLYGON (((3228558.879 3677643.254, 32285...  47008_UKN0A   \n",
       "47009  MULTIPOLYGON (((3228580.222 3677632.115, 32285...  47009_UKN0A   \n",
       "47010  MULTIPOLYGON (((3228590.113 3677612.026, 32285...  47010_UKN0A   \n",
       "47011  MULTIPOLYGON (((3225558.622 3674368.984, 32255...  47011_UKN0A   \n",
       "47012  MULTIPOLYGON (((3232417.082 3664333.287, 32324...  47012_UKN0A   \n",
       "\n",
       "                              centroid COUNTRY    osm_id building  \n",
       "0      POINT (3227487.297 3613259.457)      UK   5381175   school  \n",
       "1      POINT (3239305.506 3626218.206)      UK   6377801      yes  \n",
       "2      POINT (3251649.985 3608347.328)      UK   8662393    house  \n",
       "3      POINT (3249080.888 3607020.178)      UK   9360305   church  \n",
       "4      POINT (3269248.522 3643864.604)      UK  11118347   school  \n",
       "...                                ...     ...       ...      ...  \n",
       "47008  POINT (3228565.907 3677633.780)      UK      None    house  \n",
       "47009  POINT (3228585.596 3677622.710)      UK      None    house  \n",
       "47010  POINT (3228591.677 3677607.662)      UK      None   garage  \n",
       "47011  POINT (3225556.525 3674360.585)      UK      None    house  \n",
       "47012  POINT (3232424.101 3664342.072)      UK      None      yes  \n",
       "\n",
       "[279224 rows x 9 columns]"
      ]
     },
     "execution_count": 6,
     "metadata": {},
     "output_type": "execute_result"
    }
   ],
   "source": [
    "%%time\n",
    "losses(country, parallel = True, event_set = True ,save=True)"
   ]
  }
 ],
 "metadata": {
  "kernelspec": {
   "display_name": "Python [conda env:WISC]",
   "language": "python",
   "name": "conda-env-WISC-py"
  },
  "language_info": {
   "codemirror_mode": {
    "name": "ipython",
    "version": 3
   },
   "file_extension": ".py",
   "mimetype": "text/x-python",
   "name": "python",
   "nbconvert_exporter": "python",
   "pygments_lexer": "ipython3",
   "version": "3.6.15"
  }
 },
 "nbformat": 4,
 "nbformat_minor": 4
}
