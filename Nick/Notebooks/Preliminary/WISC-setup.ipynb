{
 "cells": [
  {
   "cell_type": "code",
   "execution_count": 14,
   "id": "f0c79015-1b27-45f2-b5d9-3e31aac0a582",
   "metadata": {},
   "outputs": [],
   "source": [
    "import os\n",
    "import sys\n",
    "\n",
    "import pandas as pd\n",
    "import numpy as np\n",
    "import scipy as sp\n",
    "\n",
    "import seaborn as sn\n",
    "import glob"
   ]
  },
  {
   "cell_type": "markdown",
   "id": "45f04c22-2de6-4dc7-81a7-b7179ee42858",
   "metadata": {},
   "source": [
    "## generate curves in format required"
   ]
  },
  {
   "cell_type": "code",
   "execution_count": 27,
   "id": "5bc82faa-7ac0-4457-a538-ae203e509796",
   "metadata": {},
   "outputs": [],
   "source": [
    "def get_curve(fpath):\n",
    "    \n",
    "    print('extracting '+fpath)\n",
    "    \n",
    "    df = pd.read_csv(fpath,header=None)\n",
    "    \n",
    "    wind = df.iloc[:,0].values\n",
    "    damages = df.iloc[:,1].values\n",
    "    \n",
    "    return np.interp(np.arange(1001),wind,damages,left=0,right=100)"
   ]
  },
  {
   "cell_type": "code",
   "execution_count": 28,
   "id": "fe454ab7-18c2-4d0b-8df8-32c24982f491",
   "metadata": {},
   "outputs": [],
   "source": [
    "fpaths = sorted(glob.glob('/network/group/aopp/predict/AWH012_LEACH_NASTORM/DATA/WISC/data/input_data/C*.csv'))"
   ]
  },
  {
   "cell_type": "code",
   "execution_count": 46,
   "id": "4cc52ff9-8596-40cb-bc64-e2f9828e776a",
   "metadata": {},
   "outputs": [
    {
     "name": "stdout",
     "output_type": "stream",
     "text": [
      "extracting /network/group/aopp/predict/AWH012_LEACH_NASTORM/DATA/WISC/data/input_data/C0.csv\n",
      "extracting /network/group/aopp/predict/AWH012_LEACH_NASTORM/DATA/WISC/data/input_data/C1.csv\n",
      "extracting /network/group/aopp/predict/AWH012_LEACH_NASTORM/DATA/WISC/data/input_data/C2.csv\n",
      "extracting /network/group/aopp/predict/AWH012_LEACH_NASTORM/DATA/WISC/data/input_data/C3.csv\n",
      "extracting /network/group/aopp/predict/AWH012_LEACH_NASTORM/DATA/WISC/data/input_data/C4.csv\n",
      "extracting /network/group/aopp/predict/AWH012_LEACH_NASTORM/DATA/WISC/data/input_data/C5.csv\n"
     ]
    }
   ],
   "source": [
    "curves_out = pd.DataFrame(columns=np.arange(1001),index=['C1','C2','C3','C4','C5','C6'],data=[get_curve(x) for x in fpaths]).T\n",
    "\n",
    "curves_out.index.name = 'storm'\n",
    "\n",
    "curves_out.to_csv('/network/group/aopp/predict/AWH012_LEACH_NASTORM/DATA/WISC/data/input_data/CURVES.csv',header=False)"
   ]
  },
  {
   "cell_type": "markdown",
   "id": "5199a288-e678-4021-9fc3-788eb66c9bb1",
   "metadata": {},
   "source": [
    "# Max damages from Huzuinga"
   ]
  },
  {
   "cell_type": "code",
   "execution_count": null,
   "id": "ae6876ed-9ba3-46a4-8ffc-ba787e61e973",
   "metadata": {},
   "outputs": [],
   "source": [
    "col_list = ['CODE','RESIDENTIAL','COMMERICIAL','INDUSTRIAL','AGRICULTURE']\n",
    "\n",
    "countries = ['AT', 'BE', 'CH', 'CZ', 'DE', 'DK', 'EE', 'ES', 'FI', 'FR', 'IE', 'IT', 'LT', 'LU', 'LV', 'NL', 'NO', 'PL', 'PT', 'SE', 'UK']\n",
    "\n",
    "resi = [816,]"
   ]
  },
  {
   "cell_type": "code",
   "execution_count": 52,
   "id": "916ee016-c9e7-4b79-8f34-f7ca667e317b",
   "metadata": {},
   "outputs": [
    {
     "data": {
      "text/plain": [
       "['AUT',\n",
       " 'BEL',\n",
       " 'CHE',\n",
       " 'CZE',\n",
       " 'DEU',\n",
       " 'DNK',\n",
       " 'EST',\n",
       " 'ESP',\n",
       " 'FIN',\n",
       " 'FRA',\n",
       " 'IRL',\n",
       " 'ITA',\n",
       " 'LTU',\n",
       " 'LUX',\n",
       " 'LVA',\n",
       " 'NLD',\n",
       " 'NOR',\n",
       " 'POL',\n",
       " 'PRT',\n",
       " 'SWE',\n",
       " 'GBR']"
      ]
     },
     "execution_count": 52,
     "metadata": {},
     "output_type": "execute_result"
    }
   ],
   "source": [
    "['AUT', 'BEL', 'CHE', 'CZE', 'DEU', 'DNK', 'EST', 'ESP', 'FIN', 'FRA', 'IRL', 'ITA', 'LTU', 'LUX', 'LVA', 'NLD', 'NOR', 'POL', 'PRT', 'SWE', 'GBR']"
   ]
  },
  {
   "cell_type": "code",
   "execution_count": null,
   "id": "d4201da3-4c3c-4e98-a21a-ffdf9fa2cfc7",
   "metadata": {},
   "outputs": [],
   "source": []
  }
 ],
 "metadata": {
  "kernelspec": {
   "display_name": "Python 3 (ipykernel)",
   "language": "python",
   "name": "python3"
  },
  "language_info": {
   "codemirror_mode": {
    "name": "ipython",
    "version": 3
   },
   "file_extension": ".py",
   "mimetype": "text/x-python",
   "name": "python",
   "nbconvert_exporter": "python",
   "pygments_lexer": "ipython3",
   "version": "3.7.12"
  }
 },
 "nbformat": 4,
 "nbformat_minor": 5
}
