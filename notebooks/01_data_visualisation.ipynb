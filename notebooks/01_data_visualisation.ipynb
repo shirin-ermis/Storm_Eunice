{
 "cells": [
  {
   "cell_type": "code",
   "execution_count": null,
   "metadata": {},
   "outputs": [],
   "source": [
    "import matplotlib.pyplot as plt\n",
    "import numpy as np\n",
    "import xarray as xr\n",
    "import pandas as pd\n",
    "import os\n",
    "import seaborn as sns\n",
    "import random \n",
    "import scipy as sc\n",
    "import statsmodels.api as sm\n",
    "import scipy.stats as stats\n",
    "import cartopy.crs as ccrs\n",
    "import pygrib\n",
    "import cfgrib\n",
    "\n",
    "sns.set_theme(style=\"white\")\n",
    "sns.set_style(\"white\")\n",
    "\n",
    "random.seed(10)\n"
   ]
  },
  {
   "attachments": {},
   "cell_type": "markdown",
   "metadata": {},
   "source": [
    "# Compare wind gusts in full simulation "
   ]
  },
  {
   "cell_type": "code",
   "execution_count": null,
   "metadata": {},
   "outputs": [],
   "source": [
    "# Load data from MED-R Preindustrial and increased\n",
    "directory_exp = '/network/group/aopp/predict/AWH012_LEACH_NASTORM/DATA/MED-R/EXP/'\n",
    "\n",
    "experiments = ['incr', 'pi']\n",
    "cfpf = ['cf', 'pf']  # control and perturbed are treated equally\n",
    "members = {'pi' : ['b2nn_2022-02-14', 'b2ns_2022-02-16', 'b2nq_2022-02-10'], \n",
    "           'incr' : ['b2no_2022-02-14', 'b2nr_2022-02-10', 'b2nt_2022-02-16']}  # members for incr and pi runs\n",
    "\n",
    "wind_gusts_pi = []\n",
    "wind_gusts_incr = []\n",
    "\n",
    "for experiment in experiments:\n",
    "    for cont in cfpf:\n",
    "        for member in members[experiment]:\n",
    "            if experiment == 'pi':\n",
    "                wind_gusts_pi.extend(list(xr.open_dataset(os.path.join(directory_exp,experiment,'EU025/sfc',cont,member+'.nc')).fg10.values.flatten()))\n",
    "            elif experiment == 'incr':\n",
    "                wind_gusts_incr.extend(list(xr.open_dataset(os.path.join(directory_exp,experiment,'EU025/sfc',cont,member+'.nc')).fg10.values.flatten()))\n"
   ]
  },
  {
   "cell_type": "code",
   "execution_count": null,
   "metadata": {},
   "outputs": [],
   "source": [
    "# Load data from current climate\n",
    "directory_ens = '/network/group/aopp/predict/AWH012_LEACH_NASTORM/DATA/MED-R/ENS/EU025/sfc/'\n",
    "# dates = ['07', '08', '09', '10', '11', '12', '13', '14', '15', '16']\n",
    "dates = ['10','14','16']\n",
    "wind_gusts_curr = []\n",
    "\n",
    "for cont in cfpf:\n",
    "    for date in dates:\n",
    "        wind_gusts_curr.extend(list(xr.open_dataset(os.path.join(directory_ens,cont,'1_2022-02-'+date+'.nc')).fg10.values.flatten()))"
   ]
  },
  {
   "cell_type": "code",
   "execution_count": null,
   "metadata": {},
   "outputs": [],
   "source": [
    "plt.hist(random.sample(wind_gusts_pi, 10000), alpha = 0.5, density = True, bins = 20, label = 'PI')\n",
    "plt.hist(random.sample(wind_gusts_curr, 10000), alpha = 0.5, density = True, bins = 20, label = 'CURR')\n",
    "plt.hist(random.sample(wind_gusts_incr, 10000), alpha = 0.5, density = True, bins = 20, label = 'INCR')\n",
    "plt.xlabel('wind gusts on 10m (m/s)')\n",
    "plt.ylabel('frequency')\n",
    "plt.legend()\n",
    "sns.despine()"
   ]
  },
  {
   "cell_type": "code",
   "execution_count": null,
   "metadata": {},
   "outputs": [],
   "source": [
    "plt.hist(random.sample(wind_gusts_pi, 10000), alpha = 0.5, density = True, bins = 20, label = 'PI')\n",
    "plt.hist(random.sample(wind_gusts_curr, 10000), alpha = 0.5, density = True, bins = 20, label = 'CURR')\n",
    "plt.hist(random.sample(wind_gusts_incr, 10000), alpha = 0.5, density = True, bins = 20, label = 'INCR')\n",
    "plt.xlabel('wind gusts on 10m (m/s)')\n",
    "plt.ylabel('frequency')\n",
    "plt.legend()\n",
    "sns.despine()\n",
    "plt.xlim((10,40,))\n",
    "\n",
    "#plt.savefig('figures/01_wind_gusts_hist_zoom.pdf')\n",
    "#plt.savefig('figures/01_wind_gusts_hist_zoom.png')"
   ]
  },
  {
   "attachments": {},
   "cell_type": "markdown",
   "metadata": {},
   "source": [
    "## Cumulative wind gusts"
   ]
  },
  {
   "cell_type": "code",
   "execution_count": null,
   "metadata": {},
   "outputs": [],
   "source": [
    "# Calculating cumsums following https://stackoverflow.com/questions/15408371/cumulative-distribution-plots-python\n",
    "\n",
    "values_pi, base_pi = np.histogram(random.sample(wind_gusts_pi, 10000), bins = 40)\n",
    "values_curr, base_curr = np.histogram(random.sample(wind_gusts_curr, 10000), bins = 40)\n",
    "values_incr, base_incr = np.histogram(random.sample(wind_gusts_incr, 10000), bins = 40)\n",
    "\n",
    "cumsum_pi = np.cumsum(values_pi)\n",
    "cumsum_curr = np.cumsum(values_curr)\n",
    "cumsum_incr = np.cumsum(values_incr)\n",
    "\n",
    "plt.plot(base_pi[:-1], cumsum_pi , alpha = 0.5, label = 'PI')\n",
    "plt.plot(base_curr[:-1], cumsum_curr, alpha = 0.5, label = 'CURR')\n",
    "plt.plot(base_incr[:-1], cumsum_incr, alpha = 0.5, label = 'INCR')\n",
    "\n",
    "plt.ylabel('cumulative wind gusts on 10m (m/s)')\n",
    "plt.legend()\n",
    "sns.despine()"
   ]
  },
  {
   "attachments": {},
   "cell_type": "markdown",
   "metadata": {},
   "source": [
    "## Check statistical significance"
   ]
  },
  {
   "attachments": {},
   "cell_type": "markdown",
   "metadata": {},
   "source": [
    "### T tests - not significant"
   ]
  },
  {
   "cell_type": "code",
   "execution_count": null,
   "metadata": {},
   "outputs": [],
   "source": [
    "print(stats.shapiro(random.sample(wind_gusts_pi, 1000)))  # Normality\n",
    "print(stats.shapiro(random.sample(wind_gusts_curr, 1000)))\n",
    "print(stats.levene(random.sample(wind_gusts_pi, 1000), random.sample(wind_gusts_curr, 1000)))  # Homogeneity of variance\n",
    "print(stats.ttest_ind(random.sample(wind_gusts_pi, 1000), random.sample(wind_gusts_curr, 1000)))"
   ]
  },
  {
   "cell_type": "code",
   "execution_count": null,
   "metadata": {},
   "outputs": [],
   "source": [
    "print(stats.shapiro(random.sample(wind_gusts_curr, 1000)))  # Normality\n",
    "print(stats.shapiro(random.sample(wind_gusts_incr, 1000)))\n",
    "print(stats.levene(random.sample(wind_gusts_curr, 1000), random.sample(wind_gusts_incr, 1000)))  # Homogeneity of variance\n",
    "print(stats.ttest_ind(random.sample(wind_gusts_curr, 1000), random.sample(wind_gusts_incr, 1000)))"
   ]
  },
  {
   "attachments": {},
   "cell_type": "markdown",
   "metadata": {},
   "source": [
    "T tests are not applicable here as the data does not follow a normal distribution (see results of Shapiro Wilk test) but even if we apply it, the means would not show a statistical significance."
   ]
  },
  {
   "attachments": {},
   "cell_type": "markdown",
   "metadata": {},
   "source": [
    "### Weibull distribution fitting"
   ]
  },
  {
   "cell_type": "code",
   "execution_count": null,
   "metadata": {},
   "outputs": [],
   "source": [
    "# Fit weibull distribution\n",
    "fit_pi= sc.stats.weibull_min.fit(random.sample(wind_gusts_pi, 10000))\n",
    "fit_curr= sc.stats.weibull_min.fit(random.sample(wind_gusts_curr, 10000))\n",
    "fit_incr= sc.stats.weibull_min.fit(random.sample(wind_gusts_incr, 10000))\n",
    "print(fit_pi)\n",
    "print(fit_curr)\n",
    "print(fit_incr)"
   ]
  },
  {
   "attachments": {},
   "cell_type": "markdown",
   "metadata": {},
   "source": [
    "# Compare wind gusts on Friday in South of UK"
   ]
  },
  {
   "cell_type": "code",
   "execution_count": null,
   "metadata": {},
   "outputs": [],
   "source": [
    "wind_gusts_pi = []\n",
    "wind_gusts_incr = []\n",
    "\n",
    "# Load data from MED-R Preindustrial and increased, as before\n",
    "directory_exp = '/network/group/aopp/predict/AWH012_LEACH_NASTORM/DATA/MED-R/EXP/'\n",
    "\n",
    "experiments = ['incr', 'pi']\n",
    "cfpf = ['cf', 'pf']  # control and perturbed are treated equally\n",
    "inits = {'pi' : ['b2nq_2022-02-10', 'b2nn_2022-02-14', 'b2ns_2022-02-16'], \n",
    "           'incr' : ['b2nr_2022-02-10', 'b2no_2022-02-14', 'b2nt_2022-02-16']}  # members for incr and pi runs\n",
    "\n",
    "for experiment in experiments:\n",
    "    for init in inits[experiment]:\n",
    "        for cont in cfpf:\n",
    "            if experiment == 'pi':\n",
    "                wind_gusts_pi.append(xr.open_dataset(os.path.join(directory_exp,experiment,'EU025/sfc',cont,init+'.nc')).fg10.values)        \n",
    "            elif experiment == 'incr':\n",
    "                wind_gusts_incr.append(xr.open_dataset(os.path.join(directory_exp,experiment,'EU025/sfc',cont,init+'.nc')).fg10.values)\n"
   ]
  },
  {
   "cell_type": "code",
   "execution_count": null,
   "metadata": {},
   "outputs": [],
   "source": [
    "# Import lat, lon values\n",
    "lat = xr.open_dataset(os.path.join(directory_exp,experiment,'EU025/sfc',cont,init+'.nc')).latitude.values\n",
    "lon = xr.open_dataset(os.path.join(directory_exp,experiment,'EU025/sfc',cont,init+'.nc')).longitude.values\n",
    " \n",
    "# Import time steps, NB there are three sets of time steps depending on the initialisation date\n",
    "fridays = []\n",
    "for init in inits['pi']:  # time stamps are the same across experiments pi and icnr\n",
    "    time = xr.open_dataset(os.path.join(directory_exp,experiment,'EU025/sfc',cont,init+'.nc')).time.values\n",
    "    fridays.append((time > pd.Timestamp(2022,2,18, 0)) & (time < pd.Timestamp(2022,2,18, 18)))\n",
    "\n",
    "# Defining box to analyse winds, south england and wales\n",
    "lat1 = 52.2\n",
    "lat2 = 50.3\n",
    "lon1 = -6\n",
    "lon2 = 1.3\n",
    "\n",
    "# Create mask\n",
    "south_england = {'lat': (lat < lat1) & (lat > lat2), 'lon': (lon < lon2) & (lon > lon1)}\n",
    "friday = (time > pd.Timestamp(2022,2,18, 0)) & (time < pd.Timestamp(2022,2,18, 18))"
   ]
  },
  {
   "cell_type": "code",
   "execution_count": null,
   "metadata": {},
   "outputs": [],
   "source": [
    "wind_gusts_incr_south = []\n",
    "wind_gusts_pi_south = []\n",
    "init_step = 0  # used to loop through fridays i.e. time step mask which varies depending on init date\n",
    "for i in range(len(wind_gusts_incr)): # going through the combinations of cf/pf and inits\n",
    "    if i in [0,2,4]:\n",
    "        masks = np.meshgrid(fridays[init_step], south_england['lat'], south_england['lon'], indexing = 'ij')\n",
    "        full_mask = np.ma.make_mask(masks[0]*masks[1]*masks[2])\n",
    "        wind_gusts_incr_south.append(wind_gusts_incr[i][full_mask].reshape(5,7,29)) \n",
    "        wind_gusts_pi_south.append(wind_gusts_pi[i][full_mask].reshape(5,7,29))\n",
    "    elif i in  [1,3,5]:\n",
    "        masks = np.meshgrid(fridays[init_step], np.ones(50), south_england['lat'], south_england['lon'], indexing = 'ij')\n",
    "        full_mask = np.ma.make_mask(masks[0]*masks[1]*masks[2]*masks[3])\n",
    "        pi = wind_gusts_pi[i][full_mask].reshape(5,50,7,29)\n",
    "        incr = wind_gusts_incr[i][full_mask].reshape(5,50,7,29)\n",
    "        for member in range(50): # add members individually but they are equal to the control runs\n",
    "            wind_gusts_pi_south.append(pi[:,member,:,:])\n",
    "            wind_gusts_incr_south.append(incr[:,member,:,:])\n",
    "        init_step += 1\n",
    "\n",
    "wind_gusts_incr_south = np.stack(wind_gusts_incr_south)\n",
    "wind_gusts_pi_south = np.stack(wind_gusts_pi_south)\n",
    "\n",
    "        "
   ]
  },
  {
   "cell_type": "code",
   "execution_count": null,
   "metadata": {},
   "outputs": [],
   "source": [
    "# Plot histograms comparing pi and incr\n",
    "\n",
    "plt.hist(wind_gusts_pi_south.flatten(), alpha = 0.5, density = True, bins = 20, label = 'PI')\n",
    "plt.hist(wind_gusts_incr_south.flatten(),  alpha = 0.5, density = True, bins = 20, label = 'INCR')\n",
    "plt.xlabel('wind gusts on 10m (m/s)')\n",
    "plt.ylabel('frequency')\n",
    "plt.legend()\n",
    "plt.title('Wind gusts (fg10) for southern UK, Friday 18/02/2022')\n",
    "sns.despine()\n",
    "\n",
    "plt.savefig('figures/01_wind_gusts_hist.pdf')\n",
    "plt.savefig('figures/01_wind_gusts_hist.png')"
   ]
  }
 ],
 "metadata": {
  "kernelspec": {
   "display_name": "storm_eunice39",
   "language": "python",
   "name": "python3"
  },
  "language_info": {
   "codemirror_mode": {
    "name": "ipython",
    "version": 3
   },
   "file_extension": ".py",
   "mimetype": "text/x-python",
   "name": "python",
   "nbconvert_exporter": "python",
   "pygments_lexer": "ipython3",
   "version": "3.9.15"
  },
  "vscode": {
   "interpreter": {
    "hash": "e85e7c9027c9ef342f521c50884794b3ff4e0d77b330915340a6a92aa790fc1e"
   }
  }
 },
 "nbformat": 4,
 "nbformat_minor": 2
}
