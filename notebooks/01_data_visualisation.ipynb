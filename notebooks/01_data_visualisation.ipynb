{
 "cells": [
  {
   "cell_type": "code",
   "execution_count": 2,
   "metadata": {},
   "outputs": [],
   "source": [
    "import matplotlib.pyplot as plt\n",
    "import numpy as np\n",
    "import xarray as xr\n",
    "import pandas as pd\n"
   ]
  },
  {
   "cell_type": "markdown",
   "metadata": {},
   "source": [
    "## Compare wind gusts"
   ]
  },
  {
   "cell_type": "code",
   "execution_count": 3,
   "metadata": {},
   "outputs": [
    {
     "data": {
      "text/plain": [
       "<xarray.Dataset>\n",
       "Dimensions:    (latitude: 163, longitude: 289, time: 49)\n",
       "Coordinates:\n",
       "  * longitude  (longitude) float32 -27.0 -26.75 -26.5 -26.25 -26.0 -25.75 ...\n",
       "  * latitude   (latitude) float32 73.5 73.25 73.0 72.75 72.5 72.25 72.0 ...\n",
       "  * time       (time) datetime64[ns] 2022-02-14 2022-02-14T03:00:00 ...\n",
       "Data variables:\n",
       "    sst        (time, latitude, longitude) float32 ...\n",
       "    fg10       (time, latitude, longitude) float32 ...\n",
       "    tcw        (time, latitude, longitude) float32 ...\n",
       "    tcwv       (time, latitude, longitude) float32 ...\n",
       "    msl        (time, latitude, longitude) float32 ...\n",
       "    tcc        (time, latitude, longitude) float32 ...\n",
       "    mxtpr      (time, latitude, longitude) float32 ...\n",
       "    tp         (time, latitude, longitude) float32 ...\n",
       "    mxcape6    (time, latitude, longitude) float32 ...\n",
       "    mxcapes6   (time, latitude, longitude) float32 ...\n",
       "Attributes:\n",
       "    Conventions:  CF-1.6\n",
       "    history:      2022-11-03 16:54:25 GMT by grib_to_netcdf-2.26.0: grib_to_n..."
      ]
     },
     "execution_count": 3,
     "metadata": {},
     "output_type": "execute_result"
    }
   ],
   "source": [
    "# Load data \n",
    "directory = '/network/group/aopp/predict/AWH012_LEACH_NASTORM/DATA/MED-R/EXP/incr/EU025/sfc/cf/'\n",
    "filename = 'b2no_2022-02-14.nc'\n",
    "data1 = xr.open_dataset(directory+filename)\n",
    "data1"
   ]
  },
  {
   "cell_type": "code",
   "execution_count": 4,
   "metadata": {},
   "outputs": [
    {
     "data": {
      "text/plain": [
       "<xarray.DataArray 'fg10' (time: 49, latitude: 163, longitude: 289)>\n",
       "[2308243 values with dtype=float32]\n",
       "Coordinates:\n",
       "  * longitude  (longitude) float32 -27.0 -26.75 -26.5 -26.25 -26.0 -25.75 ...\n",
       "  * latitude   (latitude) float32 73.5 73.25 73.0 72.75 72.5 72.25 72.0 ...\n",
       "  * time       (time) datetime64[ns] 2022-02-14 2022-02-14T03:00:00 ...\n",
       "Attributes:\n",
       "    units:      m s**-1\n",
       "    long_name:  10 metre wind gust since previous post-processing"
      ]
     },
     "execution_count": 4,
     "metadata": {},
     "output_type": "execute_result"
    }
   ],
   "source": [
    "data1['fg10']"
   ]
  },
  {
   "cell_type": "markdown",
   "metadata": {},
   "source": [
    "## Compare CAPEs"
   ]
  },
  {
   "cell_type": "code",
   "execution_count": null,
   "metadata": {},
   "outputs": [],
   "source": []
  }
 ],
 "metadata": {
  "kernelspec": {
   "display_name": "Python 3.7.3 64-bit",
   "language": "python",
   "name": "python3"
  },
  "language_info": {
   "codemirror_mode": {
    "name": "ipython",
    "version": 3
   },
   "file_extension": ".py",
   "mimetype": "text/x-python",
   "name": "python",
   "nbconvert_exporter": "python",
   "pygments_lexer": "ipython3",
   "version": "3.6.9"
  },
  "orig_nbformat": 4,
  "vscode": {
   "interpreter": {
    "hash": "31f2aee4e71d21fbe5cf8b01ff0e069b9275f58929596ceb00d14d90e3e16cd6"
   }
  }
 },
 "nbformat": 4,
 "nbformat_minor": 2
}
