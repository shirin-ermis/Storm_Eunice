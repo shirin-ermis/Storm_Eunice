{
 "cells": [
  {
   "cell_type": "code",
   "execution_count": null,
   "metadata": {},
   "outputs": [],
   "source": [
    "import matplotlib.pyplot as plt\n",
    "import numpy as np\n",
    "import xarray as xr\n",
    "import pandas as pd\n",
    "import os\n",
    "import seaborn as sns\n",
    "import random \n",
    "import scipy as sc\n",
    "import statsmodels.api as sm\n",
    "import scipy.stats as stats\n",
    "import cartopy.crs as ccrs\n",
    "import cartopy.feature as cfeature\n",
    "import cartopy as cp\n",
    "import pygrib\n",
    "import cfgrib\n",
    "import glob\n",
    "import stormeunice as eun\n",
    "\n",
    "sns.set_theme(style=\"white\")\n",
    "sns.set_style(\"white\")\n",
    "\n",
    "random.seed(10)"
   ]
  },
  {
   "attachments": {},
   "cell_type": "markdown",
   "metadata": {},
   "source": [
    "# Import data"
   ]
  },
  {
   "cell_type": "code",
   "execution_count": null,
   "metadata": {},
   "outputs": [],
   "source": [
    "lon_min = -15\n",
    "lon_max = 5\n",
    "lat_min = 45\n",
    "lat_max = 60"
   ]
  },
  {
   "cell_type": "code",
   "execution_count": null,
   "metadata": {},
   "outputs": [],
   "source": [
    "# ERA5\n",
    "\n",
    "era5_2022 = xr.open_dataset('/gf3/predict2/AWH012_LEACH_NASTORM/DATA/ERA5/EU025/sfc/2022.nc')\n",
    "era5_GUST = era5_2022.fg10.sel(time=slice('2022-02-07','2022-02-22'),latitude=slice(lat_max,lat_min),longitude=slice(lon_min, lon_max)).resample(time='1d').max().load()"
   ]
  },
  {
   "cell_type": "code",
   "execution_count": null,
   "metadata": {},
   "outputs": [],
   "source": [
    "inidate = '2022-02-16'\n",
    "experiments = ['pi', 'curr', 'incr']\n",
    "eps = eun.data.Data.get_eps_data(experiments, inidate = inidate)"
   ]
  },
  {
   "attachments": {},
   "cell_type": "markdown",
   "metadata": {},
   "source": [
    "# Select extreme and weak ensemble members"
   ]
  },
  {
   "cell_type": "code",
   "execution_count": null,
   "metadata": {},
   "outputs": [],
   "source": [
    "# wind gusts\n",
    "full_map = [lon_min, lon_max, lat_min, lat_max]\n",
    "fg10_box = full_map.copy()  #[-7, 2, 49, 54]  # lon_min, lon_max, lat_min, lat_max\n",
    "\n",
    "# MSLP\n",
    "msl_box = full_map.copy()  # [-6, 4, 52, 59]"
   ]
  },
  {
   "cell_type": "code",
   "execution_count": null,
   "metadata": {},
   "outputs": [],
   "source": [
    "members = {'extreme': [],\n",
    "           'weak': []}\n",
    "eps_extreme = []\n",
    "eps_weak = []\n",
    "\n",
    "for experiment in experiments:\n",
    "    eps_feb18 = eps[experiment].sel(time='2022-02-18 12').sel(latitude=slice(lat_max,lat_min),longitude=slice(lon_min, lon_max)).squeeze()\n",
    "\n",
    "    # select wind gusts and pressure within the boxes for each ensemble member\n",
    "    eps_boxwinds = eps_feb18.sel(latitude=slice(fg10_box[3],fg10_box[2]),longitude=slice(fg10_box[0], fg10_box[1])).fg10.squeeze()\n",
    "    eps_boxpres = eps_feb18.sel(latitude=slice(msl_box[3],msl_box[2]),longitude=slice(msl_box[0], msl_box[1])).msl.squeeze()\n",
    "\n",
    "    # calculate 95th percentile for each member wtihin the box\n",
    "    fg10_95 = eps_boxwinds.quantile(0.95, dim = ['latitude', 'longitude'])\n",
    "    msl_05 = eps_boxpres.quantile(0.05, dim = ['latitude', 'longitude'])\n",
    "\n",
    "    # select extreme and weak members based on being in the sets of the 10 strongest or weakest\n",
    "    # members in both pressure and wind\n",
    "    extremes = []\n",
    "    for number in range(0,51):\n",
    "        if (number in msl_05.sortby(msl_05).number.values[:10]) & (number not in fg10_95.sortby(fg10_95).number.values[-10:]):\n",
    "            extremes.append('pressure')\n",
    "        elif (number in fg10_95.sortby(fg10_95).number.values[-10:]) & (number not in msl_05.sortby(msl_05).number.values[:10]):\n",
    "            extremes.append('wind')\n",
    "        elif (number in fg10_95.sortby(fg10_95).number.values[-10:]) & (number in msl_05.sortby(msl_05).number.values[:10]):\n",
    "            extremes.append('wind and pressure')\n",
    "        elif (number in fg10_95.sortby(fg10_95).number.values[:10]) & (number in msl_05.sortby(msl_05).number.values[-10:]):\n",
    "            extremes.append('low wind and pressure')\n",
    "        elif (number in fg10_95.sortby(fg10_95).number.values[:10]) & (number not in msl_05.sortby(msl_05).number.values[-10:]):\n",
    "            extremes.append('low wind')\n",
    "        elif (number not in fg10_95.sortby(fg10_95).number.values[:10]) & (number in msl_05.sortby(msl_05).number.values[-10:]):\n",
    "            extremes.append('low pressure')\n",
    "        else:\n",
    "            extremes.append('none')\n",
    "    \n",
    "    extreme_members = pd.DataFrame(data = {'number':list(range(0,51)), \n",
    "                                    'fg10_95':fg10_95.values,\n",
    "                                    'msl_05':msl_05.values/100,\n",
    "                                    'extremes': extremes})\n",
    "    \n",
    "    members['extreme'].append(extreme_members[(extreme_members['extremes'].isin(['wind and pressure']))].number.values)\n",
    "    members['weak'].append(extreme_members[(extreme_members['extremes'].isin(['low wind and pressure']))].number.values)\n",
    "    eps_extreme.append(eps[experiment].sel(number = members['extreme'][-1]).squeeze())\n",
    "    eps_weak.append(eps[experiment].sel(number = members['weak'][-1]).squeeze())"
   ]
  },
  {
   "attachments": {},
   "cell_type": "markdown",
   "metadata": {},
   "source": [
    "# Compositing "
   ]
  },
  {
   "attachments": {},
   "cell_type": "markdown",
   "metadata": {},
   "source": [
    "## Time evolution in all experiments"
   ]
  },
  {
   "cell_type": "code",
   "execution_count": null,
   "metadata": {},
   "outputs": [],
   "source": [
    "time_steps = ['2022-02-16 12', '2022-02-17 12', '2022-02-18 06', '2022-02-18 12', '2022-02-18 18']"
   ]
  },
  {
   "cell_type": "code",
   "execution_count": null,
   "metadata": {},
   "outputs": [],
   "source": [
    "eps_extreme_mean = [x.sel(time = time_steps).mean(dim = 'number') for x in eps_extreme]\n",
    "eps_weak_mean = [x.sel(time = time_steps).mean(dim = 'number') for x in eps_weak]"
   ]
  },
  {
   "cell_type": "code",
   "execution_count": null,
   "metadata": {},
   "outputs": [],
   "source": [
    "# calculate number of members in each composite\n",
    "numbers = []\n",
    "numbers.append([{'pi': eps_extreme[0].sizes['number'], # first dict for extreme composite\n",
    "            'curr': eps_extreme[1].sizes['number'],\n",
    "            'incr': eps_extreme[2].sizes['number']},\n",
    "            \n",
    "            {'pi': eps_weak[0].sizes['number'], # second dicts for weak composite\n",
    "            'curr': eps_weak[1].sizes['number'],\n",
    "            'incr': eps_weak[2].sizes['number']}])"
   ]
  },
  {
   "cell_type": "code",
   "execution_count": null,
   "metadata": {},
   "outputs": [],
   "source": [
    "# wind threshold exceedance\n",
    "wind_threshold = 30\n",
    "\n",
    "enscount_extreme_fg10 = [x.where(x.fg10 >= wind_threshold).count(dim = 'number').squeeze() for x in eps_extreme]\n",
    "enscount_weak_fg10 = [x.where(x.fg10 >= wind_threshold).count(dim = 'number').squeeze() for x in eps_weak]"
   ]
  },
  {
   "cell_type": "code",
   "execution_count": null,
   "metadata": {},
   "outputs": [],
   "source": [
    "projection = ccrs.PlateCarree()\n",
    "p_max = 1040\n",
    "p_min = 960\n",
    "\n",
    "fg10_min = 20\n",
    "fg10_max = 40\n",
    "\n",
    "# fg10_min = 0\n",
    "# fg10_max = 1\n",
    "\n",
    "longitude = eps_weak[0].longitude.values\n",
    "latitude = eps_weak[0].latitude.values\n",
    "wind_threshold_cases = [enscount_extreme_fg10, enscount_weak_fg10]\n",
    "full_eps_composite_cases = [eps_extreme, eps_weak]\n",
    "\n",
    "\n",
    "for e, experiment in enumerate(experiments):\n",
    "    for c, case in enumerate([eps_extreme_mean, eps_weak_mean]): \n",
    "        for t, time in enumerate(eps_weak_mean[0].time):\n",
    "\n",
    "            fg10_vals = case[e].sel(time = time).fg10.values  # wind averages\n",
    "            # fg10_vals = wind_threshold_cases[c][e].sel(time = time).fg10.values/numbers[i][c][experiment]  # wind threshold exceedance\n",
    "            p_vals = case[e].sel(time = time).msl.values/100  # divide by 100 for Pa to hPa\n",
    "\n",
    "            # figure and map setup\n",
    "            fig = plt.figure(1, figsize=(40, 10))\n",
    "            ax = plt.subplot(2,len(time_steps),int(c*len(time_steps)+t+1), projection = projection)\n",
    "            ax.set_extent([lon_min-13, lon_max, lat_min-5, lat_max+6], projection)\n",
    "            ax.add_feature(cfeature.COASTLINE.with_scale('50m'), color = 'grey')\n",
    "\n",
    "            # fg10 as shading\n",
    "            clevs_fg10 = np.linspace(fg10_min, fg10_max, 11)  # 17\n",
    "            cf = ax.contourf(longitude, latitude, fg10_vals, clevs_fg10, cmap=plt.cm.BuPu,\n",
    "                            transform=projection)\n",
    "\n",
    "            # isobars as contours\n",
    "            clevs_p = np.linspace(p_min, p_max, 17) \n",
    "            cs = ax.contour(longitude, latitude, p_vals, clevs_p, colors='black',\n",
    "                            transform=projection)\n",
    "            plt.clabel(cs, fmt='%d')\n",
    "            ax.set_title(experiment+\" ,time = \" + str(time.values)[:16])\n",
    "\n",
    "            # dots for pressure minimum\n",
    "            dummy = full_eps_composite_cases[c][e].sel(time=time, latitude=slice(lat_max+6,lat_min-5), longitude=slice(lon_min-13,lon_max)).msl\n",
    "            min_pres_loc = dummy.isel(dummy.argmin(dim=[\"latitude\", \"longitude\"]))\n",
    "            ax.scatter(min_pres_loc.longitude, min_pres_loc.latitude, marker = 'x', s = 50, c = 'r')\n",
    "\n",
    "    fig.subplots_adjust(right=0.8)\n",
    "    cbar_ax = fig.add_axes([0.85, 0.15, 0.02, 0.7])\n",
    "    fig.colorbar(cf, cax=cbar_ax, label='Wind gusts (m/s)')\n",
    "\n",
    "    plt.savefig('figures/07_composite_averages_time_evolution_'+experiment+'_inidate_'+inidate+'.png')\n",
    "    plt.savefig('figures/07_composite_averages_time_evolution_'+experiment+'_inidate_'+inidate+'.pdf')\n",
    "    plt.show()\n",
    "        "
   ]
  },
  {
   "attachments": {},
   "cell_type": "markdown",
   "metadata": {},
   "source": [
    "## Friday 12UTC comparison of experiments"
   ]
  },
  {
   "cell_type": "code",
   "execution_count": null,
   "metadata": {},
   "outputs": [],
   "source": [
    "eps_extreme_mean = [x.sel(time = '2022-02-18 12').mean(dim = 'number') for x in eps_extreme]\n",
    "eps_weak_mean = [x.sel(time = '2022-02-18 12').mean(dim = 'number') for x in eps_weak]"
   ]
  },
  {
   "cell_type": "code",
   "execution_count": null,
   "metadata": {},
   "outputs": [],
   "source": [
    "projection = ccrs.PlateCarree()\n",
    "p_max = 1040\n",
    "p_min = 960\n",
    "\n",
    "fg10_min = 20\n",
    "fg10_max = 50\n",
    "\n",
    "longitude = eps_weak[0].longitude.values\n",
    "latitude = eps_weak[0].latitude.values\n",
    "\n",
    "time = eps_extreme_mean[0].time\n",
    "for e, experiment in enumerate(['pi', 'curr', 'incr']):\n",
    "    for c, case in enumerate([eps_extreme_mean, eps_weak_mean]):    \n",
    "        fg10_vals = case[e].fg10.values[:,:]\n",
    "        p_vals = case[e].msl.values[:,:]/100\n",
    "\n",
    "        # figure and map setup\n",
    "        fig = plt.figure(1, figsize=(20, 10))\n",
    "        ax = plt.subplot(2,3,int(e+c*3+1), projection = projection) # TODO fix indices\n",
    "        ax.set_extent([lon_min-13, lon_max, lat_min-5, lat_max+6], projection)\n",
    "        ax.add_feature(cfeature.COASTLINE.with_scale('50m'), color = 'grey')\n",
    "\n",
    "        # fg10 as shading\n",
    "        clevs_fg10 = np.linspace(fg10_min, fg10_max, 17)\n",
    "        cf = ax.contourf(longitude, latitude, fg10_vals, clevs_fg10, cmap=plt.cm.BuPu,\n",
    "                        transform=projection)\n",
    "\n",
    "        #isobars as contours\n",
    "        clevs_p = np.linspace(p_min, p_max, 17)\n",
    "        cs = ax.contour(longitude, latitude, p_vals, clevs_p, colors='black',\n",
    "                        transform=projection)\n",
    "        plt.clabel(cs, fmt='%d')\n",
    "        ax.set_title(experiment+\", time = \" + str(time.values)[:16])\n",
    "\n",
    "        # dots for pressure minimum\n",
    "        dummy = full_eps_composite_cases[c][e].sel(time=time, latitude=slice(lat_max+6,lat_min-5), longitude=slice(lon_min-13,lon_max)).msl\n",
    "        min_pres_loc = dummy.isel(dummy.argmin(dim=[\"latitude\", \"longitude\"]))\n",
    "        ax.scatter(min_pres_loc.longitude, min_pres_loc.latitude, marker = 'x', s = 50, c = 'r')\n",
    "\n",
    "    fig.subplots_adjust(right=0.8)\n",
    "    cbar_ax = fig.add_axes([0.85, 0.15, 0.02, 0.7])\n",
    "    fig.colorbar(cf, cax=cbar_ax, label='Wind gusts (m/s)')\n",
    "\n",
    "plt.savefig('figures/07_composite_averages_2022-02-18T12_inidate'+inidate+'.png')\n",
    "plt.savefig('figures/07_composite_averages_2022-02-18T12_inidate'+inidate+'.pdf')"
   ]
  },
  {
   "cell_type": "code",
   "execution_count": null,
   "metadata": {},
   "outputs": [],
   "source": []
  }
 ],
 "metadata": {
  "kernelspec": {
   "display_name": "storm_eunice39",
   "language": "python",
   "name": "python3"
  },
  "language_info": {
   "codemirror_mode": {
    "name": "ipython",
    "version": 3
   },
   "file_extension": ".py",
   "mimetype": "text/x-python",
   "name": "python",
   "nbconvert_exporter": "python",
   "pygments_lexer": "ipython3",
   "version": "3.9.15"
  }
 },
 "nbformat": 4,
 "nbformat_minor": 2
}
