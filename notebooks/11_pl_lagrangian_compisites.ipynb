{
 "cells": [
  {
   "cell_type": "code",
   "execution_count": 1,
   "metadata": {},
   "outputs": [],
   "source": [
    "import matplotlib.pyplot as plt\n",
    "import numpy as np\n",
    "import xarray as xr\n",
    "import pandas as pd\n",
    "import os\n",
    "import seaborn as sns\n",
    "import random \n",
    "import scipy as sc\n",
    "import statsmodels.api as sm\n",
    "import scipy.stats as stats\n",
    "import cartopy.crs as ccrs\n",
    "import cartopy.feature as cfeature\n",
    "import cartopy as cp\n",
    "import stormeunice as eun\n",
    "import multiprocessing\n",
    "import glob\n",
    "import dask\n",
    "\n",
    "sns.set_theme(style=\"white\")\n",
    "sns.set_style(\"white\")\n",
    "%matplotlib inline\n",
    "\n",
    "random.seed(10)"
   ]
  },
  {
   "cell_type": "code",
   "execution_count": 2,
   "metadata": {},
   "outputs": [],
   "source": [
    "P1 = multiprocessing.Pool(40)\n",
    "\n",
    "ifs_tracks = P1.map(eun.lagrangian.Lagrange.import_medr_tracks_TE, \n",
    "                    glob.glob('/home/l/leach/Attribution/NA-Storms/Nick/Scripts/tracking/TE/TEStitch_[!2]*'))\n",
    "\n",
    "P1.close()\n",
    "\n",
    "ifs_tracks = pd.concat(ifs_tracks)\n",
    "ifs_tracks['date'] = pd.to_datetime(ifs_tracks.loc[:,['year','month','day','hour']])\n",
    "\n",
    "## add era track in\n",
    "era_track = pd.read_csv('/home/l/leach/Attribution/NA-Storms/Nick/Scripts/tracking/TE/TEStitch_2022_0',\n",
    "                        skipinitialspace=True)\n",
    "\n",
    "era_track['expid'] = 'era5'\n",
    "era_track['experiment'] = 'era5'\n",
    "era_track['inidate'] = pd.to_datetime('2022-01-01')\n",
    "era_track['number'] = 0\n",
    "era_track['date'] = pd.to_datetime(era_track.loc[:,['year','month','day','hour']])\n",
    "\n",
    "all_tracks = pd.concat([ifs_tracks,era_track])\n",
    "\n",
    "eunice_track = era_track.query('track_id==5')"
   ]
  },
  {
   "cell_type": "code",
   "execution_count": 3,
   "metadata": {},
   "outputs": [],
   "source": [
    "ifs_tracks_filter = ifs_tracks.groupby(['track_id','inidate','experiment','number']).agg(dict(date=min, day=np.size, lon=lambda x: x.iloc[0], lat=lambda x: x.iloc[0], msl=min))\n",
    "eunice_filter = eunice_track.groupby(['track_id','inidate','experiment','number']).agg(dict(date=min, day=np.size, lon=lambda x: x.iloc[0], lat=lambda x: x.iloc[0], msl=min)).iloc[0]\n",
    "\n",
    "# starttime criterion - must be detected within 12 hours (before or after) the ERA5 track detectino time\n",
    "starttime_crit = (ifs_tracks_filter.date - eunice_filter.date).dt.total_seconds().abs()<(12*60*60)\n",
    "# starting location criterion - must start within 10 degrees of the ERA5 track starting point\n",
    "startloc_crit = np.sqrt((ifs_tracks_filter.lon-eunice_filter.lon)**2+(ifs_tracks_filter.lat-eunice_filter.lat)**2)<10\n",
    "# depth criterion - must reach a depth of at least 980 hPa\n",
    "minmsl_crit = ifs_tracks_filter.msl < 98000\n",
    "\n",
    "ifs_tracks_filtered = ifs_tracks_filter.loc[starttime_crit&startloc_crit&minmsl_crit]\n",
    "ifs_eunice_list = ifs_tracks.set_index(['track_id','inidate','experiment','number']).sort_index().loc[ifs_tracks_filtered.index].reset_index()"
   ]
  },
  {
   "cell_type": "code",
   "execution_count": 4,
   "metadata": {},
   "outputs": [],
   "source": [
    "multi_track_members = ifs_eunice_list.groupby(['inidate','experiment','number','track_id']).agg(dict(year = lambda x: 1)).groupby(['inidate','experiment','number']).count().query('year > 1')\n",
    "\n",
    "for idx in multi_track_members.index:\n",
    "    track_dists = ifs_eunice_list.query('inidate==\"{}\" & experiment==\"{}\" & number=={}'.format(*idx)).groupby('track_id').apply(lambda x: eun.lagrangian.Lagrange.eunice_dist(x,eunice_track=eunice_track))\n",
    "    num_reject = track_dists.idxmax()\n",
    "    ifs_eunice_list_idx = ifs_eunice_list.query('inidate==\"{}\" & experiment==\"{}\" & number=={} & track_id=={}'.format(*idx,num_reject)).index\n",
    "    ifs_eunice_list = ifs_eunice_list.drop(ifs_eunice_list_idx)"
   ]
  },
  {
   "cell_type": "code",
   "execution_count": 5,
   "metadata": {},
   "outputs": [],
   "source": [
    "ERA5_tracks = pd.read_hdf('/gf3/predict2/AWH012_LEACH_NASTORM/DATA/postproc/tracks/ERA5/EU025/sfc/2022.h5')\n",
    "ERA5_eunice_track = ERA5_tracks.query('uid==\"202202079\"')\n",
    "\n",
    "ERA5_data = xr.open_dataset('/gf3/predict2/AWH012_LEACH_NASTORM/DATA/ERA5/EU025/sfc/2022.nc').sel(time=ERA5_eunice_track.date.values)\n",
    "ERA5_data['centroid_lon'] = ('time',(ERA5_eunice_track.long*4).round()/4)\n",
    "ERA5_data['centroid_lat'] = ('time',(ERA5_eunice_track.lat*4).round()/4)\n",
    "\n",
    "ERA5_eunice_stormframe = ERA5_data.groupby('time').apply(eun.lagrangian.Lagrange.lagrangian_frame)"
   ]
  },
  {
   "cell_type": "code",
   "execution_count": null,
   "metadata": {},
   "outputs": [],
   "source": []
  }
 ],
 "metadata": {
  "kernelspec": {
   "display_name": "storm_eunice39",
   "language": "python",
   "name": "python3"
  },
  "language_info": {
   "codemirror_mode": {
    "name": "ipython",
    "version": 3
   },
   "file_extension": ".py",
   "mimetype": "text/x-python",
   "name": "python",
   "nbconvert_exporter": "python",
   "pygments_lexer": "ipython3",
   "version": "3.9.15"
  },
  "orig_nbformat": 4
 },
 "nbformat": 4,
 "nbformat_minor": 2
}
