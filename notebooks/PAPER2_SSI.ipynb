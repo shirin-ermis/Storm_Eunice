{
 "cells": [
  {
   "cell_type": "code",
   "execution_count": 1,
   "metadata": {},
   "outputs": [],
   "source": [
    "import matplotlib.pyplot as plt\n",
    "import numpy as np\n",
    "import xarray as xr\n",
    "import pandas as pd\n",
    "import seaborn as sns\n",
    "import random \n",
    "import stormeunice as eun\n",
    "import sys\n",
    "\n",
    "sns.set_theme(style=\"white\")\n",
    "sns.set_style(\"white\")\n",
    "\n",
    "sys.path.append('/home/e/ermis/moarpalettes')\n",
    "from moarpalettes import get_palette\n",
    "\n",
    "random.seed(10)"
   ]
  },
  {
   "cell_type": "code",
   "execution_count": 2,
   "metadata": {},
   "outputs": [],
   "source": [
    "def resampleTime(mem_fields, time_ref, resample_freq):\n",
    "\n",
    "        # get start / end times for properly calculating the maximum fields (taking into account the different preproc times in IFS)\n",
    "        time_intersection = sorted(list(set(mem_fields.time.values).intersection(time_ref.time.values)))\n",
    "        time_start = time_intersection[0]-pd.Timedelta('{}h 59m'.format(resample_freq-1))\n",
    "        time_end = time_intersection[-1]\n",
    "\n",
    "        # get the instantaneous fields + wind speeds\n",
    "        mem_fields_out = mem_fields.copy()\n",
    "        \n",
    "        # get the maximum fields, taking into account the different preproc times\n",
    "        fg10_field_out = mem_fields.fg10.sel(time=slice(time_start,time_end)).resample(time='{}h'.format(resample_freq), # resampling freq in hours\n",
    "                                                                                       label='right',\n",
    "                                                                                       closed='right',\n",
    "                                                                                       base=0).max(dim='time')\n",
    "        mem_fields_out['fg10'] = fg10_field_out\n",
    "\n",
    "        ws100_field_out = mem_fields.ws100.sel(time=slice(time_start,time_end)).resample(time='{}h'.format(resample_freq), # resampling freq in hours\n",
    "                                                                                       label='right',\n",
    "                                                                                       closed='right',\n",
    "                                                                                       base=0).mean(dim='time')\n",
    "        mem_fields_out['ws100'] = ws100_field_out\n",
    "\n",
    "        return mem_fields_out"
   ]
  },
  {
   "cell_type": "markdown",
   "metadata": {},
   "source": [
    "# Import data"
   ]
  },
  {
   "cell_type": "code",
   "execution_count": 3,
   "metadata": {},
   "outputs": [],
   "source": [
    "lon_min = -15\n",
    "lon_max = 5\n",
    "lat_min = 45\n",
    "lat_max = 60"
   ]
  },
  {
   "cell_type": "code",
   "execution_count": 4,
   "metadata": {},
   "outputs": [],
   "source": [
    "euroatlantic = [lon_min-13, lon_max, lat_min-5, lat_max+6]\n",
    "uk = [-11, 5, 48, 60]"
   ]
  },
  {
   "cell_type": "code",
   "execution_count": 5,
   "metadata": {},
   "outputs": [],
   "source": [
    "# ERA5\n",
    "era5_2022 = xr.open_dataset('/gf3/predict2/AWH012_LEACH_NASTORM/DATA/ERA5/EU025/sfc/2022.nc')\n",
    "era5_GUST = era5_2022.fg10.sel(time=slice('2022-02-07','2022-02-22'),latitude=slice(lat_max,lat_min),longitude=slice(lon_min, lon_max)).resample(time='1d').max().load()\n",
    "era5_PRES = era5_2022.msl.sel(time=slice('2022-02-07','2022-02-22'),latitude=slice(lat_max,lat_min),longitude=slice(lon_min, lon_max)).resample(time='1d').max().load()"
   ]
  },
  {
   "cell_type": "code",
   "execution_count": 6,
   "metadata": {},
   "outputs": [
    {
     "name": "stdout",
     "output_type": "stream",
     "text": [
      "/gf3/predict2/AWH012_LEACH_NASTORM/DATA/MED-R/EXP/pi/EU025/sfc/cf/b2nq_2022-02-10.nc\n",
      "/gf3/predict2/AWH012_LEACH_NASTORM/DATA/MED-R/EXP/pi/EU025/sfc/pf/b2nq_2022-02-10.nc\n",
      "/gf3/predict2/AWH012_LEACH_NASTORM/DATA/MED-R/ENS/EU025/sfc/cf/1_2022-02-10.nc\n",
      "/gf3/predict2/AWH012_LEACH_NASTORM/DATA/MED-R/ENS/EU025/sfc/pf/1_2022-02-10.nc\n",
      "/gf3/predict2/AWH012_LEACH_NASTORM/DATA/MED-R/EXP/incr/EU025/sfc/cf/b2nr_2022-02-10.nc\n",
      "/gf3/predict2/AWH012_LEACH_NASTORM/DATA/MED-R/EXP/incr/EU025/sfc/pf/b2nr_2022-02-10.nc\n",
      "/gf3/predict2/AWH012_LEACH_NASTORM/DATA/MED-R/EXP/pi/EU025/sfc/cf/b2nn_2022-02-14.nc\n",
      "/gf3/predict2/AWH012_LEACH_NASTORM/DATA/MED-R/EXP/pi/EU025/sfc/pf/b2nn_2022-02-14.nc\n",
      "/gf3/predict2/AWH012_LEACH_NASTORM/DATA/MED-R/ENS/EU025/sfc/cf/1_2022-02-14.nc\n",
      "/gf3/predict2/AWH012_LEACH_NASTORM/DATA/MED-R/ENS/EU025/sfc/pf/1_2022-02-14.nc\n",
      "/gf3/predict2/AWH012_LEACH_NASTORM/DATA/MED-R/EXP/incr/EU025/sfc/cf/b2no_2022-02-14.nc\n",
      "/gf3/predict2/AWH012_LEACH_NASTORM/DATA/MED-R/EXP/incr/EU025/sfc/pf/b2no_2022-02-14.nc\n",
      "/gf3/predict2/AWH012_LEACH_NASTORM/DATA/MED-R/EXP/pi/EU025/sfc/cf/b2ns_2022-02-16.nc\n",
      "/gf3/predict2/AWH012_LEACH_NASTORM/DATA/MED-R/EXP/pi/EU025/sfc/pf/b2ns_2022-02-16.nc\n",
      "/gf3/predict2/AWH012_LEACH_NASTORM/DATA/MED-R/ENS/EU025/sfc/cf/1_2022-02-16.nc\n",
      "/gf3/predict2/AWH012_LEACH_NASTORM/DATA/MED-R/ENS/EU025/sfc/pf/1_2022-02-16.nc\n",
      "/gf3/predict2/AWH012_LEACH_NASTORM/DATA/MED-R/EXP/incr/EU025/sfc/cf/b2nt_2022-02-16.nc\n",
      "/gf3/predict2/AWH012_LEACH_NASTORM/DATA/MED-R/EXP/incr/EU025/sfc/pf/b2nt_2022-02-16.nc\n"
     ]
    }
   ],
   "source": [
    "inidates = ['2022-02-10', '2022-02-14', '2022-02-16']\n",
    "experiments = ['pi', 'curr', 'incr']\n",
    "eps = {}\n",
    "for inidate in inidates:\n",
    "    eps[inidate] = eun.data.Data.get_eps_data(experiments, inidate = inidate)"
   ]
  },
  {
   "cell_type": "code",
   "execution_count": 7,
   "metadata": {},
   "outputs": [],
   "source": [
    "# Calculate wind speeds from zonal and meridional speeds\n",
    "eps = {key_ini : {key : eun.data.Data.get_eps_windpseeds(val) for (key,val) in val_ini.items()} for (key_ini, val_ini) in eps.items()}"
   ]
  },
  {
   "cell_type": "code",
   "execution_count": 8,
   "metadata": {},
   "outputs": [],
   "source": [
    "land = xr.open_dataset('/gf3/predict2/AWH012_LEACH_NASTORM/DATA/MED-R/EXP/pi/EU025/sfc/cf/b2nn_2022-02-14.nc')\n",
    "land = land.assign(unknown = land.sst.where(land.sst<277).sel(time = '2022-02-18 12'))"
   ]
  },
  {
   "cell_type": "markdown",
   "metadata": {},
   "source": [
    "# Storm severity index (SSI)\n",
    "\n",
    "Here, we use the definition proposed by Leckebusch et al. 2018 which is dependent on the cube of the wind speeds, the duration and the affected area.\n",
    "$$ SSI_{T, K} = \\sum_t^T \\sum_k^K \\Big[ \\Big( \\max{(0, \\frac{v_{k,t}}{v_{Perc, k}}-1)}\\Big)^3 \\times A_k\\Big].  $$\n",
    "\n",
    "For this definition, we first need to calculate the 98th percentile of wind speeds. The threshold for each gridbox is determined on the basis of the 10 preceding years of ERA5, assuming a stationary climate."
   ]
  },
  {
   "cell_type": "markdown",
   "metadata": {},
   "source": [
    "# Functions for SSI calculations"
   ]
  },
  {
   "cell_type": "code",
   "execution_count": 9,
   "metadata": {},
   "outputs": [],
   "source": [
    "def calcArea(lat, lon): \n",
    "    degToRad = np.pi / 180\n",
    "    diffLat, diffLon = -np.diff(lat).mean(), np.diff(lon).mean()\n",
    "    llat, llon = np.meshgrid(lat,lon)\n",
    "    llatHalf, llonHalf = (llat+diffLat/2)*degToRad, (llon+diffLon/2)*degToRad\n",
    "    radius = 6371\n",
    "    areas = radius**2 * np.diff(llonHalf, axis = 0)[:,:-1] * -((np.cos(llatHalf[:,:-1]) - np.cos(llatHalf[:,1:])))[:-1,:]\n",
    "    return np.transpose(areas)"
   ]
  },
  {
   "cell_type": "code",
   "execution_count": 10,
   "metadata": {},
   "outputs": [],
   "source": [
    "def maskOcean(dataset, mask):\n",
    "    maskedDataset = dataset.where(mask.unknown.notnull, drop = False)\n",
    "    return(maskedDataset)"
   ]
  },
  {
   "cell_type": "code",
   "execution_count": 11,
   "metadata": {},
   "outputs": [],
   "source": [
    "def calcSSI(perc98, forecast, type = 'gust', mask = True):\n",
    "\n",
    "    temp = []\n",
    "    areas = calcArea(forecast.latitude.values, forecast.longitude.values)\n",
    "\n",
    "    if mask:\n",
    "        # land = xr.open_dataset('topo_land.grb')\n",
    "        land = xr.open_dataset('/gf3/predict2/AWH012_LEACH_NASTORM/DATA/MED-R/EXP/pi/EU025/sfc/cf/b2nn_2022-02-14.nc')\n",
    "        land = land.assign(unknown = land.sst.where(land.sst<277).sel(time = '2022-02-18 12'))\n",
    "\n",
    "    for time in forecast.time:\n",
    "\n",
    "        if mask:\n",
    "            forecastStep = maskOcean(forecast.sel(time = time), land)\n",
    "        else:\n",
    "            forecastStep = forecast.sel(time = time)\n",
    "\n",
    "        if type == 'gust':\n",
    "            windMax = forecastStep.where((forecastStep.fg10/perc98.fg10-1)**3> 0).fg10.values[1:,1:]\n",
    "        elif type == 'speed':\n",
    "            windMax = forecastStep.where((forecastStep.ws100/perc98.ws100-1)**3> 0).fg10.values[1:,1:]\n",
    "        else:\n",
    "            raise(ValueError(\"Type should be one of speed or gust\"))\n",
    "        \n",
    "        temp.append(np.nansum(np.multiply(windMax, areas)))\n",
    "        ssi = np.nansum(temp)\n",
    "    return ssi"
   ]
  },
  {
   "cell_type": "markdown",
   "metadata": {},
   "source": [
    "# SSI with masked oceans"
   ]
  },
  {
   "cell_type": "code",
   "execution_count": 12,
   "metadata": {},
   "outputs": [],
   "source": [
    "era5_windspeeds_98perc = eun.data.Data.get_era_98thperc_winds(height = 100)\n",
    "era5_windgusts_98perc = eun.data.Data.get_era_98thperc_gusts()"
   ]
  },
  {
   "cell_type": "code",
   "execution_count": 13,
   "metadata": {},
   "outputs": [],
   "source": [
    "# Calculate SSI based on wind gusts\n",
    "resampling_freq = 3 # resampling frequency for wind speeds and gusts in hours\n",
    "timeref = eps[inidate]['pi'].sel(number = 1)\n",
    "ssiGust = {}\n",
    "for inidate in inidates:\n",
    "    ssiGust[inidate] = {}\n",
    "    for experiment in experiments:\n",
    "        ssiGust[inidate][experiment] = []\n",
    "        for mem in range(51):\n",
    "            ssiGust[inidate][experiment].append(calcSSI(era5_windgusts_98perc.sel(latitude = slice(uk[3], uk[2]), longitude = slice(uk[0], uk[1])), \n",
    "                                            resampleTime(eps[inidate][experiment].sel(time = slice('2022-02-18 00', '2022-02-18 23'), number = mem, latitude = slice(uk[3], uk[2]), longitude = slice(uk[0], uk[1])),timeref, resampling_freq), \n",
    "                                            mask = True))"
   ]
  },
  {
   "cell_type": "code",
   "execution_count": 21,
   "metadata": {},
   "outputs": [
    {
     "data": {
      "image/png": "[encoded data removed]",
      "text/plain": [
       "<Figure size 2000x600 with 3 Axes>"
      ]
     },
     "metadata": {},
     "output_type": "display_data"
    }
   ],
   "source": [
    "fig, (ax1, ax2, ax3) = plt.subplots(nrows = 1, ncols =3, figsize = (20,6))\n",
    "lead_times = ['8 days lead', '4 days lead', '2 days lead']\n",
    "\n",
    "for i, inidate in enumerate(inidates): \n",
    "    for e, experiment in enumerate(experiments): \n",
    "        sns.ecdfplot(ssiGust[inidate][experiment], label = experiment, ax = (ax1, ax2, ax3)[i], color = get_palette.Petroff6().to_sn_palette()[e])\n",
    "\n",
    "ax1.set_xlabel(r'SSI (km$^2$)')\n",
    "ax1.set_title(lead_times[0])\n",
    "ax1.ticklabel_format(style='scientific', useMathText=True, scilimits=(0,0))\n",
    "\n",
    "ax2.set_xlabel('SSI')\n",
    "ax2.set_title(lead_times[1])\n",
    "ax2.ticklabel_format(style='scientific', useMathText=True, scilimits=(0,0))\n",
    "\n",
    "ax3.set_xlabel('SSI')\n",
    "ax3.set_title(lead_times[2])\n",
    "ax3.ticklabel_format(style='scientific', useMathText=True, scilimits=(0,0))    \n",
    "\n",
    "sns.despine()\n",
    "plt.legend(title = \"experiment\")\n",
    "\n",
    "plt.savefig('figures/PAPER2_SSI_ecdf.png')\n",
    "plt.savefig('figures/PAPER2_SSI_ecdf.pdf')\n",
    "plt.show()"
   ]
  },
  {
   "cell_type": "markdown",
   "metadata": {},
   "source": [
    "# Significance tests"
   ]
  },
  {
   "cell_type": "code",
   "execution_count": null,
   "metadata": {},
   "outputs": [],
   "source": []
  }
 ],
 "metadata": {
  "kernelspec": {
   "display_name": "storm_eunice39",
   "language": "python",
   "name": "python3"
  },
  "language_info": {
   "codemirror_mode": {
    "name": "ipython",
    "version": 3
   },
   "file_extension": ".py",
   "mimetype": "text/x-python",
   "name": "python",
   "nbconvert_exporter": "python",
   "pygments_lexer": "ipython3",
   "version": "3.9.15"
  },
  "orig_nbformat": 4
 },
 "nbformat": 4,
 "nbformat_minor": 2
}
