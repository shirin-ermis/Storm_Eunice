{
 "cells": [
  {
   "cell_type": "code",
   "execution_count": null,
   "metadata": {},
   "outputs": [],
   "source": [
    "import matplotlib.pyplot as plt\n",
    "import numpy as np\n",
    "import xarray as xr\n",
    "import pandas as pd\n",
    "import os\n",
    "import seaborn as sns\n",
    "import random \n",
    "import statsmodels.api as sm\n",
    "\n",
    "import scipy.stats as stats\n",
    "import cartopy.crs as ccrs\n",
    "import pylab\n",
    "import tables\n",
    "\n",
    "sns.set_theme(style=\"white\")\n",
    "sns.set_style(\"white\")\n",
    "random.seed(10)"
   ]
  },
  {
   "cell_type": "markdown",
   "metadata": {},
   "source": [
    "## Load single member"
   ]
  },
  {
   "cell_type": "code",
   "execution_count": null,
   "metadata": {},
   "outputs": [],
   "source": [
    "tracks1 = pd.read_hdf('/gf3/predict2/AWH012_LEACH_NASTORM/DATA/postproc/tracks/MED-R/ENS/EU025/sfc/cf/1_2022-02-10.h5')\n",
    "# tracks1.head()\n",
    "# tracks1.date.values\n",
    "tracks1.columns"
   ]
  },
  {
   "cell_type": "code",
   "execution_count": null,
   "metadata": {},
   "outputs": [],
   "source": [
    "pd.unique(tracks1.uid)"
   ]
  },
  {
   "attachments": {},
   "cell_type": "markdown",
   "metadata": {},
   "source": [
    "The following track could be the Eunice track in this member, uid = '202202022', also uid = '202202007'. It is longer than one day, gets sufficiently strong and is created in the area that we would expect."
   ]
  },
  {
   "cell_type": "code",
   "execution_count": null,
   "metadata": {},
   "outputs": [],
   "source": [
    "tracks1[tracks1.uid=='202202007'][['uid', 'date', 'lat', 'long', 'p_cent']] "
   ]
  },
  {
   "cell_type": "code",
   "execution_count": null,
   "metadata": {},
   "outputs": [],
   "source": [
    "print('Minimum pressure = ', min(tracks1[tracks1.uid=='202202022'].p_cent))\n",
    "print('Genesis latitude = ', tracks1[tracks1.uid=='202202022'].lat.values[0])\n",
    "print('Genesis longitude = ', tracks1[tracks1.uid=='202202022'].long.values[0])"
   ]
  },
  {
   "cell_type": "code",
   "execution_count": null,
   "metadata": {},
   "outputs": [],
   "source": [
    "fig,ax = plt.subplots(subplot_kw=dict(projection=ccrs.PlateCarree()))\n",
    "\n",
    "sns.lineplot(data=tracks1,x='long',y='lat',hue='uid',legend=False)\n",
    "sns.lineplot(data=tracks1[tracks1.uid == '202202007'],x='long',y='lat',color='red',legend=False)\n",
    "sns.lineplot(data=tracks1[tracks1.uid == '202202022'],x='long',y='lat',color='red',legend=False)\n",
    "ax.coastlines()"
   ]
  },
  {
   "cell_type": "code",
   "execution_count": null,
   "metadata": {},
   "outputs": [],
   "source": [
    "early_date = pd.Timestamp(2022,2,16, 0)\n",
    "late_date =  pd.Timestamp(2022,2,18, 18)\n",
    "\n",
    "# Filter uid\n",
    "eunice_ids = [] # fill with those ids that could be Eunice\n",
    "for id_ in pd.unique(tracks1.uid): \n",
    "    # print(id_)\n",
    "    data_for_id = tracks1[tracks1.uid == id_]\n",
    "    # print('Genesis data: ', data_for_id.date[0], data_for_id.long[0], data_for_id.lat[0])\n",
    "    min_pres = min(data_for_id.p_cent) < 99000  # in Pa not hPa \n",
    "    gen_lat = (data_for_id.lat[0] > 40) & (data_for_id.lat[0] < 65)\n",
    "    gen_long = (data_for_id.long [0] > -45) & (data_for_id.long[0] < 0)\n",
    "    gen_time = ((data_for_id.date[0] >=  early_date) & (data_for_id.date[0] < late_date))\n",
    "\n",
    "    # print(min_pres, gen_lat, gen_long, gen_time)\n",
    "    \n",
    "    if min_pres & gen_lat & gen_long & gen_time:\n",
    "        eunice_ids.append(id_)"
   ]
  },
  {
   "cell_type": "code",
   "execution_count": null,
   "metadata": {},
   "outputs": [],
   "source": [
    "eunice_ids"
   ]
  },
  {
   "cell_type": "markdown",
   "metadata": {},
   "source": [
    "## Filter tracks in all members"
   ]
  },
  {
   "cell_type": "code",
   "execution_count": null,
   "metadata": {},
   "outputs": [],
   "source": [
    "## Load all members, ensemble i.e current climate\n",
    "dates = ['10', '14', '16']\n",
    "cfpf = ['cf', 'pf']\n",
    "\n",
    "# Initialise empty data frame\n",
    "tracks_curr = pd.DataFrame({'uid' : [],\n",
    "                              'date' : [], \n",
    "                              'lat' : [], \n",
    "                              'long' : [], \n",
    "                              'p_cent' : []})\n",
    "members = np.arange(1,51,1)\n",
    "\n",
    "for date in dates:\n",
    "    for c in cfpf:\n",
    "        if c == 'pf': \n",
    "            for member in members:\n",
    "                tracks = pd.read_hdf('/gf3/predict2/AWH012_LEACH_NASTORM/DATA/postproc/tracks/MED-R/ENS/EU025/sfc/'+c+'/1_2022-02-'+date+'_mem'+str(member)+'.h5')\n",
    "                tracks.uid = tracks.uid.values+'_init'+str(date)+'_mem'+str(member)\n",
    "                tracks_curr = pd.merge(tracks_curr, \n",
    "                                       tracks[['uid', 'date', 'lat', 'long', 'p_cent']], \n",
    "                                       how = 'outer')\n",
    "        else: \n",
    "            tracks = pd.read_hdf('/gf3/predict2/AWH012_LEACH_NASTORM/DATA/postproc/tracks/MED-R/ENS/EU025/sfc/'+c+'/1_2022-02-'+date+'.h5')\n",
    "            tracks.uid = tracks.uid.values+'_init'+str(date)+'_memCF'\n",
    "            tracks_curr = pd.merge(tracks_curr, \n",
    "                                   tracks[['uid', 'date', 'lat', 'long', 'p_cent']], \n",
    "                                   how = 'outer')"
   ]
  },
  {
   "cell_type": "code",
   "execution_count": null,
   "metadata": {},
   "outputs": [],
   "source": [
    "early_date = pd.Timestamp(2022,2,16, 0)\n",
    "late_date =  pd.Timestamp(2022,2,18, 18)\n",
    "\n",
    "# Filter uid\n",
    "eunice_ids_curr = [] # fill with those ids that could be Eunice\n",
    "for id_ in pd.unique(tracks_curr.uid): \n",
    "    data_for_id = tracks_curr[tracks_curr.uid == id_]\n",
    "    min_pres = min(data_for_id.p_cent) < 99000  # in Pa not hPa \n",
    "    gen_lat = (data_for_id.lat.values[0] > 40) & (data_for_id.lat.values[0] < 65)\n",
    "    gen_long = (data_for_id.long.values[0] > -45) & (data_for_id.long.values[0] < 0)\n",
    "    gen_time = ((data_for_id.date.values[0] >=  early_date) & (data_for_id.date.values[0] < late_date))\n",
    "\n",
    "    \n",
    "    if min_pres & gen_lat & gen_long & gen_time:\n",
    "        eunice_ids_curr.append(id_)"
   ]
  },
  {
   "cell_type": "code",
   "execution_count": null,
   "metadata": {},
   "outputs": [],
   "source": [
    "## Load all members for experiments\n",
    "\n",
    "experiments = ['pi', 'incr']\n",
    "cfpf = ['cf', 'pf']\n",
    "\n",
    "# Initialise empty data frame\n",
    "tracks_pi = pd.DataFrame({'uid' : [],\n",
    "                          'date' : [], \n",
    "                          'lat' : [], \n",
    "                          'long' : [], \n",
    "                          'p_cent' : []})\n",
    "\n",
    "tracks_incr = tracks_pi.copy()\n",
    "\n",
    "dates = {'pi' : ['b2nn_2022-02-14', 'b2ns_2022-02-16', 'b2nq_2022-02-10'], \n",
    "               'incr' : ['b2no_2022-02-14', 'b2nr_2022-02-10', 'b2nt_2022-02-16']}  # members for incr and pi runs\n",
    "members = np.arange(1,51,1)\n",
    "for exp in experiments:\n",
    "    for date in dates[exp]:\n",
    "        for c in cfpf:\n",
    "            if c == 'pf': \n",
    "                for member in members:\n",
    "                    tracks = pd.read_hdf('/gf3/predict2/AWH012_LEACH_NASTORM/DATA/postproc/tracks/MED-R/EXP/'+exp+'/EU025/sfc/'+c+'/'+date+'_mem'+str(member)+'.h5')\n",
    "                    tracks.uid = tracks.uid.values+'_init'+str(date)+'_mem'+str(member)\n",
    "                    if exp == 'pi':\n",
    "                        tracks_pi = pd.merge(tracks_pi, \n",
    "                                            tracks[['uid', 'date', 'lat', 'long', 'p_cent']], \n",
    "                                            how = 'outer')\n",
    "                    elif exp == 'incr':\n",
    "                        tracks_incr = pd.merge(tracks_incr, \n",
    "                                            tracks[['uid', 'date', 'lat', 'long', 'p_cent']], \n",
    "                                            how = 'outer')\n",
    "            else: \n",
    "                tracks = pd.read_hdf('/gf3/predict2/AWH012_LEACH_NASTORM/DATA/postproc/tracks/MED-R/EXP/'+exp+'/EU025/sfc/'+c+'/'+date+'.h5')\n",
    "                tracks.uid = tracks.uid.values+'_init'+str(date)+'_memCF'\n",
    "                if exp == 'pi':\n",
    "                    tracks_pi = pd.merge(tracks_pi, \n",
    "                                        tracks[['uid', 'date', 'lat', 'long', 'p_cent']], \n",
    "                                        how = 'outer')\n",
    "                elif exp == 'incr':\n",
    "                    tracks_pi = pd.merge(tracks_incr, \n",
    "                                        tracks[['uid', 'date', 'lat', 'long', 'p_cent']], \n",
    "                                        how = 'outer')"
   ]
  },
  {
   "cell_type": "code",
   "execution_count": null,
   "metadata": {},
   "outputs": [],
   "source": []
  }
 ],
 "metadata": {
  "kernelspec": {
   "display_name": "Python 3.9.15 ('storm_eunice39')",
   "language": "python",
   "name": "python3"
  },
  "language_info": {
   "codemirror_mode": {
    "name": "ipython",
    "version": 3
   },
   "file_extension": ".py",
   "mimetype": "text/x-python",
   "name": "python",
   "nbconvert_exporter": "python",
   "pygments_lexer": "ipython3",
   "version": "3.9.15"
  },
  "vscode": {
   "interpreter": {
    "hash": "d5b99e7ace62f5837c05a646fabf64813fe587bd63857d2613e61e0ea7f8f1b5"
   }
  }
 },
 "nbformat": 4,
 "nbformat_minor": 2
}
