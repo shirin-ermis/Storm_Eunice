{
 "cells": [
  {
   "cell_type": "code",
   "execution_count": 1,
   "metadata": {},
   "outputs": [],
   "source": [
    "import matplotlib.pyplot as plt\n",
    "import numpy as np\n",
    "import xarray as xr\n",
    "import pandas as pd\n",
    "import os\n",
    "import seaborn as sns\n",
    "import random \n",
    "import scipy as sc\n",
    "import statsmodels.api as sm\n",
    "import scipy.stats as stats\n",
    "import cartopy.crs as ccrs\n",
    "import pygrib\n",
    "import cfgrib\n",
    "import stormeunice as eun\n",
    "\n",
    "sns.set_theme(style=\"white\")\n",
    "sns.set_style(\"white\")\n",
    "\n",
    "random.seed(10)"
   ]
  },
  {
   "cell_type": "code",
   "execution_count": 2,
   "metadata": {},
   "outputs": [],
   "source": [
    "# dir(eun.data.Data)"
   ]
  },
  {
   "attachments": {},
   "cell_type": "markdown",
   "metadata": {},
   "source": [
    "# Import data"
   ]
  },
  {
   "cell_type": "code",
   "execution_count": 3,
   "metadata": {},
   "outputs": [],
   "source": [
    "directory, experiments, inits, cfpf = eun.data.Data.load_meta()\n",
    "lat, lon = eun.data.Data.get_latlon()\n",
    "south_df = eun.data.Data.get_friday_data()"
   ]
  },
  {
   "cell_type": "code",
   "execution_count": 4,
   "metadata": {},
   "outputs": [
    {
     "data": {
      "text/html": [
       "<div>\n",
       "<style scoped>\n",
       "    .dataframe tbody tr th:only-of-type {\n",
       "        vertical-align: middle;\n",
       "    }\n",
       "\n",
       "    .dataframe tbody tr th {\n",
       "        vertical-align: top;\n",
       "    }\n",
       "\n",
       "    .dataframe thead th {\n",
       "        text-align: right;\n",
       "    }\n",
       "</style>\n",
       "<table border=\"1\" class=\"dataframe\">\n",
       "  <thead>\n",
       "    <tr style=\"text-align: right;\">\n",
       "      <th></th>\n",
       "      <th>Unnamed: 0</th>\n",
       "      <th>lat</th>\n",
       "      <th>lon</th>\n",
       "      <th>experiment</th>\n",
       "      <th>cfpf</th>\n",
       "      <th>member</th>\n",
       "      <th>init</th>\n",
       "      <th>time</th>\n",
       "      <th>fg10</th>\n",
       "    </tr>\n",
       "  </thead>\n",
       "  <tbody>\n",
       "    <tr>\n",
       "      <th>0</th>\n",
       "      <td>0</td>\n",
       "      <td>-5.75</td>\n",
       "      <td>52.0</td>\n",
       "      <td>incr</td>\n",
       "      <td>cf</td>\n",
       "      <td>-1</td>\n",
       "      <td>b2nr_2022-02-10</td>\n",
       "      <td>2022-02-18 00:00:00</td>\n",
       "      <td>10.980364</td>\n",
       "    </tr>\n",
       "    <tr>\n",
       "      <th>1</th>\n",
       "      <td>1</td>\n",
       "      <td>-5.50</td>\n",
       "      <td>52.0</td>\n",
       "      <td>incr</td>\n",
       "      <td>cf</td>\n",
       "      <td>-1</td>\n",
       "      <td>b2nr_2022-02-10</td>\n",
       "      <td>2022-02-18 00:00:00</td>\n",
       "      <td>10.266060</td>\n",
       "    </tr>\n",
       "    <tr>\n",
       "      <th>2</th>\n",
       "      <td>2</td>\n",
       "      <td>-5.25</td>\n",
       "      <td>52.0</td>\n",
       "      <td>incr</td>\n",
       "      <td>cf</td>\n",
       "      <td>-1</td>\n",
       "      <td>b2nr_2022-02-10</td>\n",
       "      <td>2022-02-18 00:00:00</td>\n",
       "      <td>9.034861</td>\n",
       "    </tr>\n",
       "    <tr>\n",
       "      <th>3</th>\n",
       "      <td>3</td>\n",
       "      <td>-5.00</td>\n",
       "      <td>52.0</td>\n",
       "      <td>incr</td>\n",
       "      <td>cf</td>\n",
       "      <td>-1</td>\n",
       "      <td>b2nr_2022-02-10</td>\n",
       "      <td>2022-02-18 00:00:00</td>\n",
       "      <td>7.949120</td>\n",
       "    </tr>\n",
       "    <tr>\n",
       "      <th>4</th>\n",
       "      <td>4</td>\n",
       "      <td>-4.75</td>\n",
       "      <td>52.0</td>\n",
       "      <td>incr</td>\n",
       "      <td>cf</td>\n",
       "      <td>-1</td>\n",
       "      <td>b2nr_2022-02-10</td>\n",
       "      <td>2022-02-18 00:00:00</td>\n",
       "      <td>7.317068</td>\n",
       "    </tr>\n",
       "  </tbody>\n",
       "</table>\n",
       "</div>"
      ],
      "text/plain": [
       "   Unnamed: 0   lat   lon experiment cfpf  member             init  \\\n",
       "0           0 -5.75  52.0       incr   cf      -1  b2nr_2022-02-10   \n",
       "1           1 -5.50  52.0       incr   cf      -1  b2nr_2022-02-10   \n",
       "2           2 -5.25  52.0       incr   cf      -1  b2nr_2022-02-10   \n",
       "3           3 -5.00  52.0       incr   cf      -1  b2nr_2022-02-10   \n",
       "4           4 -4.75  52.0       incr   cf      -1  b2nr_2022-02-10   \n",
       "\n",
       "                  time       fg10  \n",
       "0  2022-02-18 00:00:00  10.980364  \n",
       "1  2022-02-18 00:00:00  10.266060  \n",
       "2  2022-02-18 00:00:00   9.034861  \n",
       "3  2022-02-18 00:00:00   7.949120  \n",
       "4  2022-02-18 00:00:00   7.317068  "
      ]
     },
     "execution_count": 4,
     "metadata": {},
     "output_type": "execute_result"
    }
   ],
   "source": [
    "south_df.head()"
   ]
  },
  {
   "attachments": {},
   "cell_type": "markdown",
   "metadata": {},
   "source": [
    "# Identify extreme members"
   ]
  },
  {
   "cell_type": "markdown",
   "metadata": {},
   "source": []
  }
 ],
 "metadata": {
  "kernelspec": {
   "display_name": "storm_eunice39",
   "language": "python",
   "name": "python3"
  },
  "language_info": {
   "codemirror_mode": {
    "name": "ipython",
    "version": 3
   },
   "file_extension": ".py",
   "mimetype": "text/x-python",
   "name": "python",
   "nbconvert_exporter": "python",
   "pygments_lexer": "ipython3",
   "version": "3.9.15"
  },
  "orig_nbformat": 4,
  "vscode": {
   "interpreter": {
    "hash": "e85e7c9027c9ef342f521c50884794b3ff4e0d77b330915340a6a92aa790fc1e"
   }
  }
 },
 "nbformat": 4,
 "nbformat_minor": 2
}
