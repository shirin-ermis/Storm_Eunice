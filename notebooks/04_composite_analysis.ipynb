{
 "cells": [
  {
   "cell_type": "code",
   "execution_count": 1,
   "metadata": {},
   "outputs": [],
   "source": [
    "import matplotlib.pyplot as plt\n",
    "import numpy as np\n",
    "import xarray as xr\n",
    "import pandas as pd\n",
    "import os\n",
    "import seaborn as sns\n",
    "import random \n",
    "import scipy as sc\n",
    "import statsmodels.api as sm\n",
    "import scipy.stats as stats\n",
    "import cartopy.crs as ccrs\n",
    "import cartopy as cp\n",
    "import pygrib\n",
    "import cfgrib\n",
    "import stormeunice as eun\n",
    "\n",
    "sns.set_theme(style=\"white\")\n",
    "sns.set_style(\"white\")\n",
    "\n",
    "random.seed(10)"
   ]
  },
  {
   "cell_type": "code",
   "execution_count": 2,
   "metadata": {},
   "outputs": [],
   "source": [
    "# dir(eun.data.Data"
   ]
  },
  {
   "attachments": {},
   "cell_type": "markdown",
   "metadata": {},
   "source": [
    "# Description\n",
    "\n",
    "Identify extreme ensemble members in the operational forecast\n",
    "\n",
    "Then, analyse these ensemble members in all three experiments (pi, curr, incr) wrt\n",
    "- minimum pressure\n",
    "- storm track \n",
    "\n",
    "Extreme members are identified by choosing high winds speeds and low pressures in areas indicated by ERA5 data from Feb, 18, 2022. "
   ]
  },
  {
   "attachments": {},
   "cell_type": "markdown",
   "metadata": {},
   "source": [
    "# Import data"
   ]
  },
  {
   "cell_type": "code",
   "execution_count": 7,
   "metadata": {},
   "outputs": [],
   "source": [
    "lon_min = -15\n",
    "lon_max = 20\n",
    "lat_min = 30\n",
    "lat_max = 65"
   ]
  },
  {
   "cell_type": "code",
   "execution_count": 3,
   "metadata": {},
   "outputs": [],
   "source": [
    "directory, experiments, inits, cfpf = eun.data.Data.load_meta()\n",
    "lat, lon = eun.data.Data.get_latlon()\n",
    "south_df = eun.data.Data.get_friday_data()"
   ]
  },
  {
   "cell_type": "code",
   "execution_count": 4,
   "metadata": {},
   "outputs": [],
   "source": [
    "# Create an xarray for ease of use\n",
    "south_xr = south_df.to_xarray().set_index(index = (\"lat\", \"lon\", \"time\"))  # .expand_dims()"
   ]
  },
  {
   "cell_type": "code",
   "execution_count": 8,
   "metadata": {},
   "outputs": [],
   "source": [
    "# ERA5\n",
    "\n",
    "era5_2022 = xr.open_dataset('/gf3/predict2/AWH012_LEACH_NASTORM/DATA/ERA5/EU025/sfc/2022.nc')\n",
    "era5_GUST = era5_2022.fg10.sel(time=slice('2022-02-07','2022-02-22'),latitude=slice(lat_max,lat_min),longitude=slice(lon_min, lon_max)).resample(time='1d').max().load()"
   ]
  },
  {
   "attachments": {},
   "cell_type": "markdown",
   "metadata": {},
   "source": [
    "# Identify extreme members"
   ]
  },
  {
   "cell_type": "code",
   "execution_count": 12,
   "metadata": {},
   "outputs": [
    {
     "ename": "ValueError",
     "evalue": "Dimensions {'time'} do not exist. Expected one or more of Frozen({'index': 745416})",
     "output_type": "error",
     "traceback": [
      "\u001b[0;31m---------------------------------------------------------------------------\u001b[0m",
      "\u001b[0;31mValueError\u001b[0m                                Traceback (most recent call last)",
      "Cell \u001b[0;32mIn [12], line 2\u001b[0m\n\u001b[1;32m      1\u001b[0m \u001b[39m# plot pressures with cartopy\u001b[39;00m\n\u001b[0;32m----> 2\u001b[0m p \u001b[39m=\u001b[39m south_xr\u001b[39m.\u001b[39;49misel(time\u001b[39m=\u001b[39;49m\u001b[39m0\u001b[39;49m)\u001b[39m.\u001b[39mplot(\n\u001b[1;32m      3\u001b[0m        subplot_kws\u001b[39m=\u001b[39m\u001b[39mdict\u001b[39m(projection\u001b[39m=\u001b[39mccrs\u001b[39m.\u001b[39mOrthographic(\u001b[39m-\u001b[39m\u001b[39m80\u001b[39m, \u001b[39m35\u001b[39m), facecolor\u001b[39m=\u001b[39m\u001b[39m\"\u001b[39m\u001b[39mgray\u001b[39m\u001b[39m\"\u001b[39m),\n\u001b[1;32m      4\u001b[0m        transform\u001b[39m=\u001b[39mccrs\u001b[39m.\u001b[39mPlateCarree(),\n\u001b[1;32m      5\u001b[0m    )\n\u001b[1;32m      7\u001b[0m p\u001b[39m.\u001b[39maxes\u001b[39m.\u001b[39mset_global()\n\u001b[1;32m      9\u001b[0m p\u001b[39m.\u001b[39maxes\u001b[39m.\u001b[39mcoastlines()\n",
      "File \u001b[0;32m~/nobackups/miniconda3/envs/storm_eunice39/lib/python3.9/site-packages/xarray/core/dataset.py:2412\u001b[0m, in \u001b[0;36mDataset.isel\u001b[0;34m(self, indexers, drop, missing_dims, **indexers_kwargs)\u001b[0m\n\u001b[1;32m   2408\u001b[0m     \u001b[39mreturn\u001b[39;00m \u001b[39mself\u001b[39m\u001b[39m.\u001b[39m_isel_fancy(indexers, drop\u001b[39m=\u001b[39mdrop, missing_dims\u001b[39m=\u001b[39mmissing_dims)\n\u001b[1;32m   2410\u001b[0m \u001b[39m# Much faster algorithm for when all indexers are ints, slices, one-dimensional\u001b[39;00m\n\u001b[1;32m   2411\u001b[0m \u001b[39m# lists, or zero or one-dimensional np.ndarray's\u001b[39;00m\n\u001b[0;32m-> 2412\u001b[0m indexers \u001b[39m=\u001b[39m drop_dims_from_indexers(indexers, \u001b[39mself\u001b[39;49m\u001b[39m.\u001b[39;49mdims, missing_dims)\n\u001b[1;32m   2414\u001b[0m variables \u001b[39m=\u001b[39m {}\n\u001b[1;32m   2415\u001b[0m dims: \u001b[39mdict\u001b[39m[Hashable, \u001b[39mint\u001b[39m] \u001b[39m=\u001b[39m {}\n",
      "File \u001b[0;32m~/nobackups/miniconda3/envs/storm_eunice39/lib/python3.9/site-packages/xarray/core/utils.py:859\u001b[0m, in \u001b[0;36mdrop_dims_from_indexers\u001b[0;34m(indexers, dims, missing_dims)\u001b[0m\n\u001b[1;32m    857\u001b[0m     invalid \u001b[39m=\u001b[39m indexers\u001b[39m.\u001b[39mkeys() \u001b[39m-\u001b[39m \u001b[39mset\u001b[39m(dims)\n\u001b[1;32m    858\u001b[0m     \u001b[39mif\u001b[39;00m invalid:\n\u001b[0;32m--> 859\u001b[0m         \u001b[39mraise\u001b[39;00m \u001b[39mValueError\u001b[39;00m(\n\u001b[1;32m    860\u001b[0m             \u001b[39mf\u001b[39m\u001b[39m\"\u001b[39m\u001b[39mDimensions \u001b[39m\u001b[39m{\u001b[39;00minvalid\u001b[39m}\u001b[39;00m\u001b[39m do not exist. Expected one or more of \u001b[39m\u001b[39m{\u001b[39;00mdims\u001b[39m}\u001b[39;00m\u001b[39m\"\u001b[39m\n\u001b[1;32m    861\u001b[0m         )\n\u001b[1;32m    863\u001b[0m     \u001b[39mreturn\u001b[39;00m indexers\n\u001b[1;32m    865\u001b[0m \u001b[39melif\u001b[39;00m missing_dims \u001b[39m==\u001b[39m \u001b[39m\"\u001b[39m\u001b[39mwarn\u001b[39m\u001b[39m\"\u001b[39m:\n\u001b[1;32m    866\u001b[0m \n\u001b[1;32m    867\u001b[0m     \u001b[39m# don't modify input\u001b[39;00m\n",
      "\u001b[0;31mValueError\u001b[0m: Dimensions {'time'} do not exist. Expected one or more of Frozen({'index': 745416})"
     ]
    }
   ],
   "source": [
    "# plot pressures with cartopy\n",
    "p = south_xr.isel(time=0).plot(\n",
    "       subplot_kws=dict(projection=ccrs.PlateCarree(0), facecolor=\"gray\"),\n",
    "       transform=ccrs.PlateCarree(),\n",
    "   )\n",
    "    \n",
    "p.axes.set_global()\n",
    "\n",
    "p.axes.coastlines()"
   ]
  },
  {
   "cell_type": "code",
   "execution_count": null,
   "metadata": {},
   "outputs": [],
   "source": []
  }
 ],
 "metadata": {
  "kernelspec": {
   "display_name": "storm_eunice39",
   "language": "python",
   "name": "python3"
  },
  "language_info": {
   "codemirror_mode": {
    "name": "ipython",
    "version": 3
   },
   "file_extension": ".py",
   "mimetype": "text/x-python",
   "name": "python",
   "nbconvert_exporter": "python",
   "pygments_lexer": "ipython3",
   "version": "3.9.15"
  },
  "orig_nbformat": 4,
  "vscode": {
   "interpreter": {
    "hash": "e85e7c9027c9ef342f521c50884794b3ff4e0d77b330915340a6a92aa790fc1e"
   }
  }
 },
 "nbformat": 4,
 "nbformat_minor": 2
}
