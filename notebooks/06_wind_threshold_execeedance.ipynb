{
 "cells": [
  {
   "cell_type": "code",
   "execution_count": null,
   "metadata": {},
   "outputs": [],
   "source": [
    "import matplotlib.pyplot as plt\n",
    "import numpy as np\n",
    "import xarray as xr\n",
    "import pandas as pd\n",
    "import os\n",
    "import seaborn as sns\n",
    "import random \n",
    "import scipy as sc\n",
    "import statsmodels.api as sm\n",
    "import scipy.stats as stats\n",
    "import cartopy.crs as ccrs\n",
    "import cartopy.feature as cfeature\n",
    "import cartopy as cp\n",
    "import pygrib\n",
    "import cfgrib\n",
    "import glob\n",
    "import sys\n",
    "import stormeunice as eun\n",
    "\n",
    "sns.set_theme(style=\"white\")\n",
    "sns.set_style(\"white\")\n",
    "\n",
    "random.seed(10)"
   ]
  },
  {
   "cell_type": "markdown",
   "metadata": {},
   "source": [
    "# Description"
   ]
  },
  {
   "attachments": {},
   "cell_type": "markdown",
   "metadata": {},
   "source": [
    "This script creaates a plot to disply the behaviour of the ensemble in terms of wind gusts and mean sea level pressure."
   ]
  },
  {
   "attachments": {},
   "cell_type": "markdown",
   "metadata": {},
   "source": [
    "# Import data"
   ]
  },
  {
   "cell_type": "code",
   "execution_count": null,
   "metadata": {},
   "outputs": [],
   "source": [
    "lon_min = -15\n",
    "lon_max = 5\n",
    "lat_min = 45\n",
    "lat_max = 60"
   ]
  },
  {
   "cell_type": "code",
   "execution_count": null,
   "metadata": {},
   "outputs": [],
   "source": [
    "# ERA5\n",
    "\n",
    "era5_2022 = xr.open_dataset('/gf3/predict2/AWH012_LEACH_NASTORM/DATA/ERA5/EU025/sfc/2022.nc')\n",
    "era5_GUST = era5_2022.fg10.sel(time=slice('2022-02-07','2022-02-22'),latitude=slice(lat_max,lat_min),longitude=slice(lon_min, lon_max)).resample(time='1d').max().load()"
   ]
  },
  {
   "cell_type": "code",
   "execution_count": null,
   "metadata": {},
   "outputs": [],
   "source": [
    "# EPS\n",
    "\n",
    "# directory = '/gf3/predict2/AWH012_LEACH_NASTORM/DATA/MED-R/ENS/EU025/sfc/'\n",
    "# eps = []  # making sure to start from a clean slate\n",
    "\n",
    "# for ind, cont in enumerate(['cf', 'pf']):\n",
    "#     for files in glob.glob(directory+cont+'/*.nc'):\n",
    "#         print(files)\n",
    "#         if len(eps) == ind+1:\n",
    "#             data = xr.open_dataset(files)\n",
    "#             data = eun.data.Data.preproc_ds(data.get(['fg10', 'msl']))  # preprocessing just one variable for speed\n",
    "#             eps[ind] = xr.concat([eps[ind], data], dim = 'inidate')\n",
    "#         else:\n",
    "#             eps.append(eun.data.Data.preproc_ds(xr.open_dataset(files).get(['fg10', 'msl'])))\n",
    "\n",
    "# eps = xr.concat(eps, dim = 'number')\n",
    "\n",
    "eps = eun.data.Data.get_eps_data(['curr'])[0]"
   ]
  },
  {
   "attachments": {},
   "cell_type": "markdown",
   "metadata": {},
   "source": [
    "# Calculate aggregated fields"
   ]
  },
  {
   "cell_type": "code",
   "execution_count": null,
   "metadata": {},
   "outputs": [],
   "source": [
    "wind_threshold = 22"
   ]
  },
  {
   "cell_type": "code",
   "execution_count": null,
   "metadata": {},
   "outputs": [],
   "source": [
    "ensmean_mslp = eps.sel(time = '2022-02-18 12').mean(dim = 'number').squeeze()"
   ]
  },
  {
   "cell_type": "code",
   "execution_count": null,
   "metadata": {},
   "outputs": [],
   "source": [
    "eps_friday = eps.sel(time = '2022-02-18 12')\n",
    "enscount_fg10 = eps_friday.where(eps_friday.fg10 >= wind_threshold).count(dim = 'number').squeeze()"
   ]
  },
  {
   "attachments": {},
   "cell_type": "markdown",
   "metadata": {},
   "source": [
    "# Map"
   ]
  },
  {
   "cell_type": "code",
   "execution_count": null,
   "metadata": {},
   "outputs": [],
   "source": [
    "# wind gusts\n",
    "full_map = [lon_min, lon_max, lat_min, lat_max]\n",
    "fg10_box = full_map.copy()  #[-7, 2, 49, 54]  # lon_min, lon_max, lat_min, lat_max\n",
    "\n",
    "# MSLP\n",
    "msl_box = full_map.copy()  # [-6, 4, 52, 59]"
   ]
  },
  {
   "cell_type": "code",
   "execution_count": null,
   "metadata": {},
   "outputs": [],
   "source": [
    "inidate = '2022-02-16'\n",
    "projection = ccrs.PlateCarree()\n",
    "p_max = 1010\n",
    "p_min = 960\n",
    "\n",
    "fg10_min = 0\n",
    "fg10_max = 1\n",
    "\n",
    "fg10_vals = enscount_fg10.sel(inidate = inidate).fg10.values/51\n",
    "p_vals = ensmean_mslp.sel(inidate = inidate).msl.values[:,:]/100\n",
    "longitude = ensmean_mslp.longitude.values\n",
    "latitude = ensmean_mslp.latitude.values\n",
    "\n",
    "# figure and map setup\n",
    "fig = plt.figure(1)\n",
    "ax = plt.subplot(111, projection = projection)\n",
    "ax.set_extent([lon_min, lon_max, lat_min, lat_max], projection)\n",
    "ax.add_feature(cfeature.COASTLINE.with_scale('50m'), color = 'grey')\n",
    "\n",
    "# isobars as contours\n",
    "clevs_p = np.linspace(p_min, p_max, 12)\n",
    "cs = ax.contour(longitude, latitude, p_vals, clevs_p, colors='black',\n",
    "                transform=projection, linewidths = 0.7)\n",
    "plt.clabel(cs, fmt='%d')\n",
    "\n",
    "# fg10 as shading\n",
    "clevs_fg10 = np.linspace(fg10_min, fg10_max, 11)\n",
    "cf = ax.contourf(longitude, latitude, fg10_vals, clevs_fg10, cmap=plt.cm.BuPu,\n",
    "                    transform=projection)\n",
    "\n",
    "\n",
    "fig.subplots_adjust(right=0.8)\n",
    "cbar_ax = fig.add_axes([0.85, 0.15, 0.02, 0.7])\n",
    "fig.colorbar(cf, cax=cbar_ax, label='Fraction of ens. above 22 m/s ')\n",
    "\n",
    "plt.savefig('figures/06_wind_threshold_exceedance_inidate-'+inidate+'.png')\n",
    "plt.savefig('figures/06_wind_threshold_exceedance_inidate-'+inidate+'.pdf')"
   ]
  },
  {
   "cell_type": "code",
   "execution_count": null,
   "metadata": {},
   "outputs": [],
   "source": []
  }
 ],
 "metadata": {
  "kernelspec": {
   "display_name": "storm_eunice39",
   "language": "python",
   "name": "python3"
  },
  "language_info": {
   "codemirror_mode": {
    "name": "ipython",
    "version": 3
   },
   "file_extension": ".py",
   "mimetype": "text/x-python",
   "name": "python",
   "nbconvert_exporter": "python",
   "pygments_lexer": "ipython3",
   "version": "3.9.15"
  }
 },
 "nbformat": 4,
 "nbformat_minor": 2
}
