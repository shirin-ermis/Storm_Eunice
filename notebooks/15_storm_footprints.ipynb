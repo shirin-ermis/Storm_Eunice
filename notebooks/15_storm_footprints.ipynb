{
 "cells": [
  {
   "cell_type": "code",
   "execution_count": 1,
   "metadata": {},
   "outputs": [],
   "source": [
    "import matplotlib.pyplot as plt\n",
    "import numpy as np\n",
    "import xarray as xr\n",
    "import pandas as pd\n",
    "import seaborn as sns\n",
    "import random \n",
    "import scipy as sc\n",
    "import cartopy.crs as ccrs\n",
    "import cartopy.feature as cfeature\n",
    "import stormeunice as eun\n",
    "import matplotlib.transforms as mtransforms\n",
    "from cmcrameri import cm\n",
    "\n",
    "sns.set_theme(style=\"white\")\n",
    "sns.set_style(\"white\")\n",
    "\n",
    "random.seed(10)"
   ]
  },
  {
   "cell_type": "markdown",
   "metadata": {},
   "source": [
    "# Import data"
   ]
  },
  {
   "cell_type": "code",
   "execution_count": 2,
   "metadata": {},
   "outputs": [],
   "source": [
    "lon_min = -15\n",
    "lon_max = 5\n",
    "lat_min = 45\n",
    "lat_max = 60"
   ]
  },
  {
   "cell_type": "code",
   "execution_count": 3,
   "metadata": {},
   "outputs": [],
   "source": [
    "# ERA5\n",
    "\n",
    "era5_2022 = xr.open_dataset('/gf3/predict2/AWH012_LEACH_NASTORM/DATA/ERA5/EU025/sfc/2022.nc')\n",
    "era5_GUST = era5_2022.fg10.sel(time=slice('2022-02-07','2022-02-22'),latitude=slice(lat_max,lat_min),longitude=slice(lon_min, lon_max)).resample(time='3h').max().load()\n",
    "era5_PRES = era5_2022.msl.sel(time=slice('2022-02-07','2022-02-22'),latitude=slice(lat_max,lat_min),longitude=slice(lon_min, lon_max)).resample(time='3h').max().load()"
   ]
  },
  {
   "cell_type": "code",
   "execution_count": 4,
   "metadata": {},
   "outputs": [
    {
     "name": "stdout",
     "output_type": "stream",
     "text": [
      "/gf3/predict2/AWH012_LEACH_NASTORM/DATA/MED-R/EXP/pi/EU025/sfc/cf/b2nq_2022-02-10.nc\n",
      "/gf3/predict2/AWH012_LEACH_NASTORM/DATA/MED-R/EXP/pi/EU025/sfc/pf/b2nq_2022-02-10.nc\n",
      "/gf3/predict2/AWH012_LEACH_NASTORM/DATA/MED-R/ENS/EU025/sfc/cf/1_2022-02-10.nc\n",
      "/gf3/predict2/AWH012_LEACH_NASTORM/DATA/MED-R/ENS/EU025/sfc/pf/1_2022-02-10.nc\n",
      "/gf3/predict2/AWH012_LEACH_NASTORM/DATA/MED-R/EXP/incr/EU025/sfc/cf/b2nr_2022-02-10.nc\n",
      "/gf3/predict2/AWH012_LEACH_NASTORM/DATA/MED-R/EXP/incr/EU025/sfc/pf/b2nr_2022-02-10.nc\n",
      "/gf3/predict2/AWH012_LEACH_NASTORM/DATA/MED-R/EXP/pi/EU025/sfc/cf/b2nn_2022-02-14.nc\n",
      "/gf3/predict2/AWH012_LEACH_NASTORM/DATA/MED-R/EXP/pi/EU025/sfc/pf/b2nn_2022-02-14.nc\n",
      "/gf3/predict2/AWH012_LEACH_NASTORM/DATA/MED-R/ENS/EU025/sfc/cf/1_2022-02-14.nc\n",
      "/gf3/predict2/AWH012_LEACH_NASTORM/DATA/MED-R/ENS/EU025/sfc/pf/1_2022-02-14.nc\n",
      "/gf3/predict2/AWH012_LEACH_NASTORM/DATA/MED-R/EXP/incr/EU025/sfc/cf/b2no_2022-02-14.nc\n",
      "/gf3/predict2/AWH012_LEACH_NASTORM/DATA/MED-R/EXP/incr/EU025/sfc/pf/b2no_2022-02-14.nc\n",
      "/gf3/predict2/AWH012_LEACH_NASTORM/DATA/MED-R/EXP/pi/EU025/sfc/cf/b2ns_2022-02-16.nc\n",
      "/gf3/predict2/AWH012_LEACH_NASTORM/DATA/MED-R/EXP/pi/EU025/sfc/pf/b2ns_2022-02-16.nc\n",
      "/gf3/predict2/AWH012_LEACH_NASTORM/DATA/MED-R/ENS/EU025/sfc/cf/1_2022-02-16.nc\n",
      "/gf3/predict2/AWH012_LEACH_NASTORM/DATA/MED-R/ENS/EU025/sfc/pf/1_2022-02-16.nc\n",
      "/gf3/predict2/AWH012_LEACH_NASTORM/DATA/MED-R/EXP/incr/EU025/sfc/cf/b2nt_2022-02-16.nc\n",
      "/gf3/predict2/AWH012_LEACH_NASTORM/DATA/MED-R/EXP/incr/EU025/sfc/pf/b2nt_2022-02-16.nc\n"
     ]
    }
   ],
   "source": [
    "# EPS\n",
    "inidates = ['2022-02-14']\n",
    "experiments = ['pi', 'curr', 'incr']\n",
    "eps = {}\n",
    "for inidate in inidates:\n",
    "    eps[inidate] = eun.data.Data.get_eps_data(experiments, inidate = inidate)"
   ]
  },
  {
   "cell_type": "code",
   "execution_count": 5,
   "metadata": {},
   "outputs": [],
   "source": [
    "# analysis\n",
    "analysis = xr.open_dataset('/home/e/ermis/Storm_Eunice/raw_data/1_2022-02-18_analysis.nc')\n",
    "analysis_PRES = analysis.msl.sel(time=slice('2022-02-07','2022-02-22'),latitude=slice(lat_max,lat_min),longitude=slice(lon_min, lon_max)).resample(time='3h').max().load()\n",
    "\n",
    "forecast = xr.open_dataset('/home/e/ermis/Storm_Eunice/raw_data/1_2022-02-18.nc')\n",
    "forecast_GUST = forecast.fg10.sel(time=slice('2022-02-07','2022-02-22'),latitude=slice(lat_max,lat_min),longitude=slice(lon_min, lon_max)).resample(time='3h').max().load()\n"
   ]
  },
  {
   "cell_type": "markdown",
   "metadata": {},
   "source": [
    "# Storm footprints\n",
    "\n",
    "We define the storm footprints for Eunice to be the maximum 10m 3s wind gust on February 18, 2022. The overall fotprint will then be given by the area where more than or equal to 20m/s were forecast."
   ]
  },
  {
   "cell_type": "code",
   "execution_count": 20,
   "metadata": {},
   "outputs": [],
   "source": [
    "# calculate maximum wind gusts on Feb 18\n",
    "def get_footprint(ds):\n",
    "    footprint = ds.max(dim='time').copy(deep=True)\n",
    "    footprint.fg10 = np.zeros(footprint.fg10.shape)\n",
    "    footprint.fg10 = np.where(ds.fg10.sel > 20, 1, 0)\n",
    "    return footprint\n",
    "\n",
    "footprint_curr = eps['2022-02-14']['curr'].fg10.max(dim='time').where(eps['2022-02-14']['curr'].fg10.max(dim='time') > 20, 0)\n",
    "footprint_incr = eps['2022-02-14']['incr'].fg10.max(dim='time').where(eps['2022-02-14']['incr'].fg10.max(dim='time') > 20, 0)\n",
    "footprint_pi = eps['2022-02-14']['pi'].fg10.max(dim='time').where(eps['2022-02-14']['pi'].fg10.max(dim='time') > 20, 0)"
   ]
  },
  {
   "cell_type": "code",
   "execution_count": 17,
   "metadata": {},
   "outputs": [],
   "source": [
    "def calcArea(lat, lon): \n",
    "    degToRad = np.pi / 180\n",
    "    diffLat, diffLon = -np.diff(lat).mean(), np.diff(lon).mean()\n",
    "    llat, llon = np.meshgrid(lat,lon)\n",
    "    llatHalf, llonHalf = (llat+diffLat/2)*degToRad, (llon+diffLon/2)*degToRad\n",
    "    radius = 6371\n",
    "    areas = radius**2 * np.diff(llonHalf, axis = 0)[:,:-1] * -((np.cos(llatHalf[:,:-1]) - np.cos(llatHalf[:,1:])))[:-1,:]\n",
    "    return np.transpose(areas)"
   ]
  },
  {
   "cell_type": "code",
   "execution_count": 18,
   "metadata": {},
   "outputs": [],
   "source": [
    "def maskOcean(dataset, mask):\n",
    "    maskedDataset = dataset.where(mask.unknown.notnull, drop = False)\n",
    "    return(maskedDataset)"
   ]
  },
  {
   "cell_type": "code",
   "execution_count": 53,
   "metadata": {},
   "outputs": [],
   "source": [
    "areas = calcArea(footprint_curr.latitude.values, footprint_curr.longitude.values)\n",
    "areas = np.vstack((areas, areas[0, :])) # for longitudes at same lat, area is the same\n",
    "areas = np.hstack((areas, areas[:, 0].reshape(-1, 1))) # assuming a minor change in area for the last latitude\n",
    "\n",
    "area_curr = [np.sum(areas[footprint_curr.sel(number=x) > 20]) for x in range(51)]\n",
    "area_incr = [np.sum(areas[footprint_incr.sel(number=x) > 20]) for x in range(51)]\n",
    "area_pi = [np.sum(areas[footprint_pi.sel(number=x) > 20]) for x in range(51)]"
   ]
  },
  {
   "cell_type": "code",
   "execution_count": 58,
   "metadata": {},
   "outputs": [
    {
     "data": {
      "text/plain": [
       "(12.29492645139258, 13.186213374308002, 11.544161394211915)"
      ]
     },
     "execution_count": 58,
     "metadata": {},
     "output_type": "execute_result"
    }
   ],
   "source": [
    "np.mean(area_curr)/1000000, np.mean(area_incr)/1000000, np.mean(area_pi)/1000000"
   ]
  },
  {
   "cell_type": "markdown",
   "metadata": {},
   "source": [
    "# Significance"
   ]
  },
  {
   "cell_type": "code",
   "execution_count": 65,
   "metadata": {},
   "outputs": [],
   "source": [
    "# bootstrap from list of areas and calculate 90% confidence intervals\n",
    "def bootstrap(data, n=10000, func=np.mean):\n",
    "    sample = np.random.choice(data, (n, len(data)), replace=True).mean(axis=1)\n",
    "    conf_int = []\n",
    "    conf_int.append(func(np.percentile(sample, 5)))\n",
    "    conf_int.append(func(np.percentile(sample, 95)))\n",
    "    return conf_int"
   ]
  },
  {
   "cell_type": "code",
   "execution_count": 68,
   "metadata": {},
   "outputs": [
    {
     "data": {
      "text/plain": [
       "([12103963.321842011, 12484403.86170048],\n",
       " [12975732.20867008, 13399850.81957744],\n",
       " [11361226.379337551, 11726514.19614719])"
      ]
     },
     "execution_count": 68,
     "metadata": {},
     "output_type": "execute_result"
    }
   ],
   "source": [
    "bootstrap(area_curr), bootstrap(area_incr), bootstrap(area_pi)"
   ]
  },
  {
   "cell_type": "code",
   "execution_count": null,
   "metadata": {},
   "outputs": [],
   "source": []
  }
 ],
 "metadata": {
  "kernelspec": {
   "display_name": "storm_eunice39",
   "language": "python",
   "name": "python3"
  },
  "language_info": {
   "codemirror_mode": {
    "name": "ipython",
    "version": 3
   },
   "file_extension": ".py",
   "mimetype": "text/x-python",
   "name": "python",
   "nbconvert_exporter": "python",
   "pygments_lexer": "ipython3",
   "version": "3.9.15"
  }
 },
 "nbformat": 4,
 "nbformat_minor": 2
}
