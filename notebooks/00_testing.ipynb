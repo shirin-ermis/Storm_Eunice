{
 "cells": [
  {
   "cell_type": "code",
   "execution_count": null,
   "metadata": {},
   "outputs": [],
   "source": [
    "import matplotlib.pyplot as plt\n",
    "import numpy as np\n",
    "import xarray as xr\n",
    "import pandas as pd\n",
    "import os\n",
    "import seaborn as sns\n",
    "import random \n",
    "import scipy as sc\n",
    "import statsmodels.api as sm\n",
    "import scipy.stats as stats\n",
    "import cartopy.crs as ccrs\n",
    "import cartopy.feature as cfeature\n",
    "import cartopy as cp\n",
    "import pygrib\n",
    "import cfgrib\n",
    "import glob\n",
    "import stormeunice as eun\n",
    "\n",
    "sns.set_theme(style=\"white\")\n",
    "sns.set_style(\"white\")\n",
    "\n",
    "random.seed(10)"
   ]
  },
  {
   "cell_type": "code",
   "execution_count": null,
   "metadata": {},
   "outputs": [],
   "source": [
    "lon_min = -15\n",
    "lon_max = 5\n",
    "lat_min = 45\n",
    "lat_max = 60"
   ]
  },
  {
   "cell_type": "code",
   "execution_count": null,
   "metadata": {},
   "outputs": [],
   "source": [
    "directory = '/gf3/predict2/AWH012_LEACH_NASTORM/DATA/MED-R/ENS/EU025/sfc/pf/1_2022-02-16.nc'\n",
    "eps = eun.data.Data.preproc_ds(xr.open_dataset(directory).get(['fg10', 'msl']))"
   ]
  },
  {
   "cell_type": "code",
   "execution_count": null,
   "metadata": {},
   "outputs": [],
   "source": [
    "projection = ccrs.PlateCarree()\n",
    "p_max = 1040\n",
    "p_min = 960\n",
    "\n",
    "i = 2\n",
    "e = 1\n",
    "experiment = 'curr'\n",
    "time = '2022-02-18 12'\n",
    "t = 3\n",
    "longitude = eps.longitude.values\n",
    "latitude = eps.latitude.values\n",
    "test = eps.sel(inidate = '2022-02-16',number = 49, time = time).msl/100\n",
    "# test = eps_extreme_mean[i+e*3].sel(time = time).msl/100\n",
    "\n",
    "\n",
    "# figure and map setup\n",
    "fig = plt.figure(1)\n",
    "ax = plt.subplot(projection = projection)\n",
    "ax.set_extent([-4, lon_max-2, 54, lat_max], projection)\n",
    "ax.add_feature(cfeature.COASTLINE.with_scale('50m'), color = 'grey')\n",
    "\n",
    "# isobars as contours\n",
    "clevs_p = np.linspace(p_min, p_max, 5) \n",
    "cs = ax.contour(longitude, latitude, test, clevs_p, colors='black',\n",
    "                transform=projection)\n",
    "plt.clabel(cs, fmt='%d')"
   ]
  },
  {
   "cell_type": "code",
   "execution_count": null,
   "metadata": {},
   "outputs": [],
   "source": [
    "def get_eps_data(experiments, inidate = '2022-02-16'):\n",
    "    \"\"\"\n",
    "    Function to load comlete data of simulations on surface level since xr has a bug that prevents using \n",
    "    this as a simpler solution\n",
    "\n",
    "    Input:\n",
    "    ------\n",
    "    experiments: list of strings, list of experiments to import, e.g. ['pi', 'curr', 'incr']\n",
    "\n",
    "    Output:\n",
    "    -------\n",
    "    eps: list of xarrays, data and metadata of operational forecasts, each list entry is one experiment\n",
    "    \"\"\"\n",
    "\n",
    "\n",
    "    directory = {'pi':'/gf3/predict2/AWH012_LEACH_NASTORM/DATA/MED-R/EXP/pi/EU025/sfc/',\n",
    "                'curr': '/gf3/predict2/AWH012_LEACH_NASTORM/DATA/MED-R/ENS/EU025/sfc/',\n",
    "                'incr': '/gf3/predict2/AWH012_LEACH_NASTORM/DATA/MED-R/EXP/incr/EU025/sfc/'}\n",
    "\n",
    "    eps = {}\n",
    "    for experiment in experiments:\n",
    "        exp_eps = []\n",
    "        for c, cont in enumerate(['cf', 'pf']):\n",
    "            for files in glob.glob(directory[experiment]+cont+'/*'+inidate+'*.nc'):\n",
    "                print(files)\n",
    "                data = xr.open_dataset(files)\n",
    "                exp_eps.append(eun.data.Data.preproc_ds(data.get(['fg10', 'msl'])))  # preprocessing just two variables for speed\n",
    "\n",
    "        eps[experiment] = xr.concat(exp_eps, dim = 'number').squeeze()\n",
    "\n",
    "    return eps"
   ]
  },
  {
   "cell_type": "code",
   "execution_count": null,
   "metadata": {},
   "outputs": [],
   "source": [
    "eps = get_eps_data(['curr'], inidate = '2022-02-14')"
   ]
  },
  {
   "cell_type": "code",
   "execution_count": null,
   "metadata": {},
   "outputs": [],
   "source": [
    "projection = ccrs.PlateCarree()\n",
    "p_max = 1040\n",
    "p_min = 960\n",
    "\n",
    "i = 2\n",
    "e = 1\n",
    "experiment = 'curr'\n",
    "time = '2022-02-18T12'\n",
    "t = 3\n",
    "longitude = eps[experiment].longitude.values\n",
    "latitude = eps[experiment].latitude.values\n",
    "test = eps[experiment].sel(number = 49, time = time).msl/100\n",
    "# test = eps_extreme_mean[i+e*3].sel(time = time).msl/100\n",
    "\n",
    "\n",
    "# figure and map setup\n",
    "fig = plt.figure(1)\n",
    "ax = plt.subplot(projection = projection)\n",
    "ax.set_extent([-4, lon_max-2, 54, lat_max], projection)\n",
    "ax.add_feature(cfeature.COASTLINE.with_scale('50m'), color = 'grey')\n",
    "\n",
    "# isobars as contours\n",
    "clevs_p = np.linspace(p_min, p_max, 5) \n",
    "cs = ax.contour(longitude, latitude, test, clevs_p, colors='black',\n",
    "                transform=projection)\n",
    "plt.clabel(cs, fmt='%d')"
   ]
  },
  {
   "cell_type": "code",
   "execution_count": null,
   "metadata": {},
   "outputs": [],
   "source": []
  }
 ],
 "metadata": {
  "kernelspec": {
   "display_name": "storm_eunice39",
   "language": "python",
   "name": "python3"
  },
  "language_info": {
   "codemirror_mode": {
    "name": "ipython",
    "version": 3
   },
   "file_extension": ".py",
   "mimetype": "text/x-python",
   "name": "python",
   "nbconvert_exporter": "python",
   "pygments_lexer": "ipython3",
   "version": "3.9.15"
  }
 },
 "nbformat": 4,
 "nbformat_minor": 2
}
